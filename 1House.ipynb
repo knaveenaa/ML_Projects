{
  "metadata": {
    "kernelspec": {
      "name": "python",
      "display_name": "Python (Pyodide)",
      "language": "python"
    },
    "language_info": {
      "codemirror_mode": {
        "name": "python",
        "version": 3
      },
      "file_extension": ".py",
      "mimetype": "text/x-python",
      "name": "python",
      "nbconvert_exporter": "python",
      "pygments_lexer": "ipython3",
      "version": "3.8"
    }
  },
  "nbformat_minor": 4,
  "nbformat": 4,
  "cells": [
    {
      "cell_type": "markdown",
      "source": "House_price_prediction dataset 1.csv",
      "metadata": {}
    },
    {
      "cell_type": "markdown",
      "source": "importing the pandas library to play with thw data ",
      "metadata": {}
    },
    {
      "cell_type": "code",
      "source": "import pandas as pd ",
      "metadata": {
        "trusted": true
      },
      "outputs": [],
      "execution_count": 4
    },
    {
      "cell_type": "code",
      "source": "Reading the data using the pandas",
      "metadata": {
        "trusted": true
      },
      "outputs": [],
      "execution_count": null
    },
    {
      "cell_type": "code",
      "source": "df =  pd.read_csv(\"dataset1.csv\")",
      "metadata": {
        "trusted": true
      },
      "outputs": [],
      "execution_count": 5
    },
    {
      "cell_type": "markdown",
      "source": "Knowing the shape of the datset",
      "metadata": {}
    },
    {
      "cell_type": "code",
      "source": "df.shape",
      "metadata": {
        "trusted": true
      },
      "outputs": [
        {
          "execution_count": 7,
          "output_type": "execute_result",
          "data": {
            "text/plain": "(2919, 13)"
          },
          "metadata": {}
        }
      ],
      "execution_count": 7
    },
    {
      "cell_type": "code",
      "source": "",
      "metadata": {
        "trusted": true
      },
      "outputs": [],
      "execution_count": null
    },
    {
      "cell_type": "code",
      "source": "df.head(5)",
      "metadata": {
        "trusted": true
      },
      "outputs": [
        {
          "execution_count": 8,
          "output_type": "execute_result",
          "data": {
            "text/plain": "   Id  MSSubClass MSZoning  LotArea LotConfig BldgType  OverallCond  \\\n0   0          60       RL     8450    Inside     1Fam            5   \n1   1          20       RL     9600       FR2     1Fam            8   \n2   2          60       RL    11250    Inside     1Fam            5   \n3   3          70       RL     9550    Corner     1Fam            5   \n4   4          60       RL    14260       FR2     1Fam            5   \n\n   YearBuilt  YearRemodAdd Exterior1st  BsmtFinSF2  TotalBsmtSF  SalePrice  \n0       2003          2003     VinylSd         0.0        856.0   208500.0  \n1       1976          1976     MetalSd         0.0       1262.0   181500.0  \n2       2001          2002     VinylSd         0.0        920.0   223500.0  \n3       1915          1970     Wd Sdng         0.0        756.0   140000.0  \n4       2000          2000     VinylSd         0.0       1145.0   250000.0  ",
            "text/html": "<div>\n<style scoped>\n    .dataframe tbody tr th:only-of-type {\n        vertical-align: middle;\n    }\n\n    .dataframe tbody tr th {\n        vertical-align: top;\n    }\n\n    .dataframe thead th {\n        text-align: right;\n    }\n</style>\n<table border=\"1\" class=\"dataframe\">\n  <thead>\n    <tr style=\"text-align: right;\">\n      <th></th>\n      <th>Id</th>\n      <th>MSSubClass</th>\n      <th>MSZoning</th>\n      <th>LotArea</th>\n      <th>LotConfig</th>\n      <th>BldgType</th>\n      <th>OverallCond</th>\n      <th>YearBuilt</th>\n      <th>YearRemodAdd</th>\n      <th>Exterior1st</th>\n      <th>BsmtFinSF2</th>\n      <th>TotalBsmtSF</th>\n      <th>SalePrice</th>\n    </tr>\n  </thead>\n  <tbody>\n    <tr>\n      <th>0</th>\n      <td>0</td>\n      <td>60</td>\n      <td>RL</td>\n      <td>8450</td>\n      <td>Inside</td>\n      <td>1Fam</td>\n      <td>5</td>\n      <td>2003</td>\n      <td>2003</td>\n      <td>VinylSd</td>\n      <td>0.0</td>\n      <td>856.0</td>\n      <td>208500.0</td>\n    </tr>\n    <tr>\n      <th>1</th>\n      <td>1</td>\n      <td>20</td>\n      <td>RL</td>\n      <td>9600</td>\n      <td>FR2</td>\n      <td>1Fam</td>\n      <td>8</td>\n      <td>1976</td>\n      <td>1976</td>\n      <td>MetalSd</td>\n      <td>0.0</td>\n      <td>1262.0</td>\n      <td>181500.0</td>\n    </tr>\n    <tr>\n      <th>2</th>\n      <td>2</td>\n      <td>60</td>\n      <td>RL</td>\n      <td>11250</td>\n      <td>Inside</td>\n      <td>1Fam</td>\n      <td>5</td>\n      <td>2001</td>\n      <td>2002</td>\n      <td>VinylSd</td>\n      <td>0.0</td>\n      <td>920.0</td>\n      <td>223500.0</td>\n    </tr>\n    <tr>\n      <th>3</th>\n      <td>3</td>\n      <td>70</td>\n      <td>RL</td>\n      <td>9550</td>\n      <td>Corner</td>\n      <td>1Fam</td>\n      <td>5</td>\n      <td>1915</td>\n      <td>1970</td>\n      <td>Wd Sdng</td>\n      <td>0.0</td>\n      <td>756.0</td>\n      <td>140000.0</td>\n    </tr>\n    <tr>\n      <th>4</th>\n      <td>4</td>\n      <td>60</td>\n      <td>RL</td>\n      <td>14260</td>\n      <td>FR2</td>\n      <td>1Fam</td>\n      <td>5</td>\n      <td>2000</td>\n      <td>2000</td>\n      <td>VinylSd</td>\n      <td>0.0</td>\n      <td>1145.0</td>\n      <td>250000.0</td>\n    </tr>\n  </tbody>\n</table>\n</div>"
          },
          "metadata": {}
        }
      ],
      "execution_count": 8
    },
    {
      "cell_type": "code",
      "source": "df.tail(5)",
      "metadata": {
        "trusted": true
      },
      "outputs": [
        {
          "execution_count": 9,
          "output_type": "execute_result",
          "data": {
            "text/plain": "        Id  MSSubClass MSZoning  LotArea LotConfig BldgType  OverallCond  \\\n2914  2914         160       RM     1936    Inside    Twnhs            7   \n2915  2915         160       RM     1894    Inside   TwnhsE            5   \n2916  2916          20       RL    20000    Inside     1Fam            7   \n2917  2917          85       RL    10441    Inside     1Fam            5   \n2918  2918          60       RL     9627    Inside     1Fam            5   \n\n      YearBuilt  YearRemodAdd Exterior1st  BsmtFinSF2  TotalBsmtSF  SalePrice  \n2914       1970          1970     CemntBd         0.0        546.0        NaN  \n2915       1970          1970     CemntBd         0.0        546.0        NaN  \n2916       1960          1996     VinylSd         0.0       1224.0        NaN  \n2917       1992          1992     HdBoard         0.0        912.0        NaN  \n2918       1993          1994     HdBoard         0.0        996.0        NaN  ",
            "text/html": "<div>\n<style scoped>\n    .dataframe tbody tr th:only-of-type {\n        vertical-align: middle;\n    }\n\n    .dataframe tbody tr th {\n        vertical-align: top;\n    }\n\n    .dataframe thead th {\n        text-align: right;\n    }\n</style>\n<table border=\"1\" class=\"dataframe\">\n  <thead>\n    <tr style=\"text-align: right;\">\n      <th></th>\n      <th>Id</th>\n      <th>MSSubClass</th>\n      <th>MSZoning</th>\n      <th>LotArea</th>\n      <th>LotConfig</th>\n      <th>BldgType</th>\n      <th>OverallCond</th>\n      <th>YearBuilt</th>\n      <th>YearRemodAdd</th>\n      <th>Exterior1st</th>\n      <th>BsmtFinSF2</th>\n      <th>TotalBsmtSF</th>\n      <th>SalePrice</th>\n    </tr>\n  </thead>\n  <tbody>\n    <tr>\n      <th>2914</th>\n      <td>2914</td>\n      <td>160</td>\n      <td>RM</td>\n      <td>1936</td>\n      <td>Inside</td>\n      <td>Twnhs</td>\n      <td>7</td>\n      <td>1970</td>\n      <td>1970</td>\n      <td>CemntBd</td>\n      <td>0.0</td>\n      <td>546.0</td>\n      <td>NaN</td>\n    </tr>\n    <tr>\n      <th>2915</th>\n      <td>2915</td>\n      <td>160</td>\n      <td>RM</td>\n      <td>1894</td>\n      <td>Inside</td>\n      <td>TwnhsE</td>\n      <td>5</td>\n      <td>1970</td>\n      <td>1970</td>\n      <td>CemntBd</td>\n      <td>0.0</td>\n      <td>546.0</td>\n      <td>NaN</td>\n    </tr>\n    <tr>\n      <th>2916</th>\n      <td>2916</td>\n      <td>20</td>\n      <td>RL</td>\n      <td>20000</td>\n      <td>Inside</td>\n      <td>1Fam</td>\n      <td>7</td>\n      <td>1960</td>\n      <td>1996</td>\n      <td>VinylSd</td>\n      <td>0.0</td>\n      <td>1224.0</td>\n      <td>NaN</td>\n    </tr>\n    <tr>\n      <th>2917</th>\n      <td>2917</td>\n      <td>85</td>\n      <td>RL</td>\n      <td>10441</td>\n      <td>Inside</td>\n      <td>1Fam</td>\n      <td>5</td>\n      <td>1992</td>\n      <td>1992</td>\n      <td>HdBoard</td>\n      <td>0.0</td>\n      <td>912.0</td>\n      <td>NaN</td>\n    </tr>\n    <tr>\n      <th>2918</th>\n      <td>2918</td>\n      <td>60</td>\n      <td>RL</td>\n      <td>9627</td>\n      <td>Inside</td>\n      <td>1Fam</td>\n      <td>5</td>\n      <td>1993</td>\n      <td>1994</td>\n      <td>HdBoard</td>\n      <td>0.0</td>\n      <td>996.0</td>\n      <td>NaN</td>\n    </tr>\n  </tbody>\n</table>\n</div>"
          },
          "metadata": {}
        }
      ],
      "execution_count": 9
    },
    {
      "cell_type": "markdown",
      "source": "Data pre processing removing the duplicates and also removing the unwanted rows and cloumns\nif u dont use teh inplace = True it will make changes temporarly only ",
      "metadata": {}
    },
    {
      "cell_type": "code",
      "source": "df.drop_duplicates(inplace = True)",
      "metadata": {
        "trusted": true
      },
      "outputs": [],
      "execution_count": 11
    },
    {
      "cell_type": "code",
      "source": "df.shape",
      "metadata": {
        "trusted": true
      },
      "outputs": [
        {
          "execution_count": 12,
          "output_type": "execute_result",
          "data": {
            "text/plain": "(2919, 13)"
          },
          "metadata": {}
        }
      ],
      "execution_count": 12
    },
    {
      "cell_type": "code",
      "source": "Which means it doesn't have any duplicates\n\nhere we dont need teh id cloumns and that wont help in the furthhur steps will remove that ",
      "metadata": {
        "trusted": true
      },
      "outputs": [
        {
          "ename": "<class 'SyntaxError'>",
          "evalue": "unterminated string literal (detected at line 1) (<ipython-input-13-4cced3e0cb48>, line 1)",
          "traceback": [
            "\u001b[0;36m  Cell \u001b[0;32mIn[13], line 1\u001b[0;36m\u001b[0m\n\u001b[0;31m    Which means it doesn't have any duplicates\u001b[0m\n\u001b[0m                        ^\u001b[0m\n\u001b[0;31mSyntaxError\u001b[0m\u001b[0;31m:\u001b[0m unterminated string literal (detected at line 1)\n"
          ],
          "output_type": "error"
        }
      ],
      "execution_count": 13
    },
    {
      "cell_type": "code",
      "source": "df.drop(columns = ['Id'], inplace = True)",
      "metadata": {
        "trusted": true
      },
      "outputs": [],
      "execution_count": 14
    },
    {
      "cell_type": "code",
      "source": "df.shape",
      "metadata": {
        "trusted": true
      },
      "outputs": [
        {
          "execution_count": 15,
          "output_type": "execute_result",
          "data": {
            "text/plain": "(2919, 12)"
          },
          "metadata": {}
        }
      ],
      "execution_count": 15
    },
    {
      "cell_type": "code",
      "source": "df.head(5)",
      "metadata": {
        "trusted": true
      },
      "outputs": [
        {
          "execution_count": 16,
          "output_type": "execute_result",
          "data": {
            "text/plain": "   MSSubClass MSZoning  LotArea LotConfig BldgType  OverallCond  YearBuilt  \\\n0          60       RL     8450    Inside     1Fam            5       2003   \n1          20       RL     9600       FR2     1Fam            8       1976   \n2          60       RL    11250    Inside     1Fam            5       2001   \n3          70       RL     9550    Corner     1Fam            5       1915   \n4          60       RL    14260       FR2     1Fam            5       2000   \n\n   YearRemodAdd Exterior1st  BsmtFinSF2  TotalBsmtSF  SalePrice  \n0          2003     VinylSd         0.0        856.0   208500.0  \n1          1976     MetalSd         0.0       1262.0   181500.0  \n2          2002     VinylSd         0.0        920.0   223500.0  \n3          1970     Wd Sdng         0.0        756.0   140000.0  \n4          2000     VinylSd         0.0       1145.0   250000.0  ",
            "text/html": "<div>\n<style scoped>\n    .dataframe tbody tr th:only-of-type {\n        vertical-align: middle;\n    }\n\n    .dataframe tbody tr th {\n        vertical-align: top;\n    }\n\n    .dataframe thead th {\n        text-align: right;\n    }\n</style>\n<table border=\"1\" class=\"dataframe\">\n  <thead>\n    <tr style=\"text-align: right;\">\n      <th></th>\n      <th>MSSubClass</th>\n      <th>MSZoning</th>\n      <th>LotArea</th>\n      <th>LotConfig</th>\n      <th>BldgType</th>\n      <th>OverallCond</th>\n      <th>YearBuilt</th>\n      <th>YearRemodAdd</th>\n      <th>Exterior1st</th>\n      <th>BsmtFinSF2</th>\n      <th>TotalBsmtSF</th>\n      <th>SalePrice</th>\n    </tr>\n  </thead>\n  <tbody>\n    <tr>\n      <th>0</th>\n      <td>60</td>\n      <td>RL</td>\n      <td>8450</td>\n      <td>Inside</td>\n      <td>1Fam</td>\n      <td>5</td>\n      <td>2003</td>\n      <td>2003</td>\n      <td>VinylSd</td>\n      <td>0.0</td>\n      <td>856.0</td>\n      <td>208500.0</td>\n    </tr>\n    <tr>\n      <th>1</th>\n      <td>20</td>\n      <td>RL</td>\n      <td>9600</td>\n      <td>FR2</td>\n      <td>1Fam</td>\n      <td>8</td>\n      <td>1976</td>\n      <td>1976</td>\n      <td>MetalSd</td>\n      <td>0.0</td>\n      <td>1262.0</td>\n      <td>181500.0</td>\n    </tr>\n    <tr>\n      <th>2</th>\n      <td>60</td>\n      <td>RL</td>\n      <td>11250</td>\n      <td>Inside</td>\n      <td>1Fam</td>\n      <td>5</td>\n      <td>2001</td>\n      <td>2002</td>\n      <td>VinylSd</td>\n      <td>0.0</td>\n      <td>920.0</td>\n      <td>223500.0</td>\n    </tr>\n    <tr>\n      <th>3</th>\n      <td>70</td>\n      <td>RL</td>\n      <td>9550</td>\n      <td>Corner</td>\n      <td>1Fam</td>\n      <td>5</td>\n      <td>1915</td>\n      <td>1970</td>\n      <td>Wd Sdng</td>\n      <td>0.0</td>\n      <td>756.0</td>\n      <td>140000.0</td>\n    </tr>\n    <tr>\n      <th>4</th>\n      <td>60</td>\n      <td>RL</td>\n      <td>14260</td>\n      <td>FR2</td>\n      <td>1Fam</td>\n      <td>5</td>\n      <td>2000</td>\n      <td>2000</td>\n      <td>VinylSd</td>\n      <td>0.0</td>\n      <td>1145.0</td>\n      <td>250000.0</td>\n    </tr>\n  </tbody>\n</table>\n</div>"
          },
          "metadata": {}
        }
      ],
      "execution_count": 16
    },
    {
      "cell_type": "code",
      "source": "Finding the null values if there are null values we have to remove teh null values or we have to replace with the best replacable value ",
      "metadata": {
        "trusted": true
      },
      "outputs": [
        {
          "ename": "<class 'SyntaxError'>",
          "evalue": "expected 'else' after 'if' expression (<ipython-input-17-d11741b1bf37>, line 1)",
          "traceback": [
            "\u001b[0;36m  Cell \u001b[0;32mIn[17], line 1\u001b[0;36m\u001b[0m\n\u001b[0;31m    Finding the null values if there are null values we have to remove teh null values or we have to replace with the best replacable value\u001b[0m\n\u001b[0m                     ^\u001b[0m\n\u001b[0;31mSyntaxError\u001b[0m\u001b[0;31m:\u001b[0m expected 'else' after 'if' expression\n"
          ],
          "output_type": "error"
        }
      ],
      "execution_count": 17
    },
    {
      "cell_type": "code",
      "source": "df.isnull().sum()",
      "metadata": {
        "trusted": true
      },
      "outputs": [
        {
          "execution_count": 18,
          "output_type": "execute_result",
          "data": {
            "text/plain": "MSSubClass         0\nMSZoning           4\nLotArea            0\nLotConfig          0\nBldgType           0\nOverallCond        0\nYearBuilt          0\nYearRemodAdd       0\nExterior1st        1\nBsmtFinSF2         1\nTotalBsmtSF        1\nSalePrice       1459\ndtype: int64"
          },
          "metadata": {}
        }
      ],
      "execution_count": 18
    },
    {
      "cell_type": "code",
      "source": "mean_SalePrice = df[\"SalePrice\"].mean()\nprint(mean_SalePrice)",
      "metadata": {
        "trusted": true
      },
      "outputs": [
        {
          "name": "stdout",
          "text": "180921.19589041095\n",
          "output_type": "stream"
        }
      ],
      "execution_count": 20
    },
    {
      "cell_type": "code",
      "source": "df[\"SalePrice\"] = df[\"SalePrice\"].fillna(180921)",
      "metadata": {
        "trusted": true
      },
      "outputs": [],
      "execution_count": 21
    },
    {
      "cell_type": "code",
      "source": "df.isnull().sum()",
      "metadata": {
        "trusted": true
      },
      "outputs": [
        {
          "execution_count": 22,
          "output_type": "execute_result",
          "data": {
            "text/plain": "MSSubClass      0\nMSZoning        4\nLotArea         0\nLotConfig       0\nBldgType        0\nOverallCond     0\nYearBuilt       0\nYearRemodAdd    0\nExterior1st     1\nBsmtFinSF2      1\nTotalBsmtSF     1\nSalePrice       0\ndtype: int64"
          },
          "metadata": {}
        }
      ],
      "execution_count": 22
    },
    {
      "cell_type": "code",
      "source": "df = df.fillna(0)",
      "metadata": {
        "trusted": true
      },
      "outputs": [],
      "execution_count": 23
    },
    {
      "cell_type": "code",
      "source": "df.isnull().sum()",
      "metadata": {
        "trusted": true
      },
      "outputs": [
        {
          "execution_count": 24,
          "output_type": "execute_result",
          "data": {
            "text/plain": "MSSubClass      0\nMSZoning        0\nLotArea         0\nLotConfig       0\nBldgType        0\nOverallCond     0\nYearBuilt       0\nYearRemodAdd    0\nExterior1st     0\nBsmtFinSF2      0\nTotalBsmtSF     0\nSalePrice       0\ndtype: int64"
          },
          "metadata": {}
        }
      ],
      "execution_count": 24
    },
    {
      "cell_type": "code",
      "source": "df.describe()",
      "metadata": {
        "trusted": true
      },
      "outputs": [
        {
          "execution_count": 25,
          "output_type": "execute_result",
          "data": {
            "text/plain": "        MSSubClass        LotArea  OverallCond    YearBuilt  YearRemodAdd  \\\ncount  2919.000000    2919.000000  2919.000000  2919.000000   2919.000000   \nmean     57.137718   10168.114080     5.564577  1971.312778   1984.264474   \nstd      42.517628    7886.996359     1.113131    30.291442     20.894344   \nmin      20.000000    1300.000000     1.000000  1872.000000   1950.000000   \n25%      20.000000    7478.000000     5.000000  1953.500000   1965.000000   \n50%      50.000000    9453.000000     5.000000  1973.000000   1993.000000   \n75%      70.000000   11570.000000     6.000000  2001.000000   2004.000000   \nmax     190.000000  215245.000000     9.000000  2010.000000   2010.000000   \n\n        BsmtFinSF2  TotalBsmtSF      SalePrice  \ncount  2919.000000  2919.000000    2919.000000  \nmean     49.565262  1051.417266  180921.097979  \nstd     169.179104   441.120498   56174.332503  \nmin       0.000000     0.000000   34900.000000  \n25%       0.000000   793.000000  163000.000000  \n50%       0.000000   989.000000  180921.000000  \n75%       0.000000  1302.000000  180921.000000  \nmax    1526.000000  6110.000000  755000.000000  ",
            "text/html": "<div>\n<style scoped>\n    .dataframe tbody tr th:only-of-type {\n        vertical-align: middle;\n    }\n\n    .dataframe tbody tr th {\n        vertical-align: top;\n    }\n\n    .dataframe thead th {\n        text-align: right;\n    }\n</style>\n<table border=\"1\" class=\"dataframe\">\n  <thead>\n    <tr style=\"text-align: right;\">\n      <th></th>\n      <th>MSSubClass</th>\n      <th>LotArea</th>\n      <th>OverallCond</th>\n      <th>YearBuilt</th>\n      <th>YearRemodAdd</th>\n      <th>BsmtFinSF2</th>\n      <th>TotalBsmtSF</th>\n      <th>SalePrice</th>\n    </tr>\n  </thead>\n  <tbody>\n    <tr>\n      <th>count</th>\n      <td>2919.000000</td>\n      <td>2919.000000</td>\n      <td>2919.000000</td>\n      <td>2919.000000</td>\n      <td>2919.000000</td>\n      <td>2919.000000</td>\n      <td>2919.000000</td>\n      <td>2919.000000</td>\n    </tr>\n    <tr>\n      <th>mean</th>\n      <td>57.137718</td>\n      <td>10168.114080</td>\n      <td>5.564577</td>\n      <td>1971.312778</td>\n      <td>1984.264474</td>\n      <td>49.565262</td>\n      <td>1051.417266</td>\n      <td>180921.097979</td>\n    </tr>\n    <tr>\n      <th>std</th>\n      <td>42.517628</td>\n      <td>7886.996359</td>\n      <td>1.113131</td>\n      <td>30.291442</td>\n      <td>20.894344</td>\n      <td>169.179104</td>\n      <td>441.120498</td>\n      <td>56174.332503</td>\n    </tr>\n    <tr>\n      <th>min</th>\n      <td>20.000000</td>\n      <td>1300.000000</td>\n      <td>1.000000</td>\n      <td>1872.000000</td>\n      <td>1950.000000</td>\n      <td>0.000000</td>\n      <td>0.000000</td>\n      <td>34900.000000</td>\n    </tr>\n    <tr>\n      <th>25%</th>\n      <td>20.000000</td>\n      <td>7478.000000</td>\n      <td>5.000000</td>\n      <td>1953.500000</td>\n      <td>1965.000000</td>\n      <td>0.000000</td>\n      <td>793.000000</td>\n      <td>163000.000000</td>\n    </tr>\n    <tr>\n      <th>50%</th>\n      <td>50.000000</td>\n      <td>9453.000000</td>\n      <td>5.000000</td>\n      <td>1973.000000</td>\n      <td>1993.000000</td>\n      <td>0.000000</td>\n      <td>989.000000</td>\n      <td>180921.000000</td>\n    </tr>\n    <tr>\n      <th>75%</th>\n      <td>70.000000</td>\n      <td>11570.000000</td>\n      <td>6.000000</td>\n      <td>2001.000000</td>\n      <td>2004.000000</td>\n      <td>0.000000</td>\n      <td>1302.000000</td>\n      <td>180921.000000</td>\n    </tr>\n    <tr>\n      <th>max</th>\n      <td>190.000000</td>\n      <td>215245.000000</td>\n      <td>9.000000</td>\n      <td>2010.000000</td>\n      <td>2010.000000</td>\n      <td>1526.000000</td>\n      <td>6110.000000</td>\n      <td>755000.000000</td>\n    </tr>\n  </tbody>\n</table>\n</div>"
          },
          "metadata": {}
        }
      ],
      "execution_count": 25
    },
    {
      "cell_type": "code",
      "source": "%pip install seaborn\n%pip install numpy\nimport seaborn as sns\nimport numpy as np",
      "metadata": {
        "trusted": true
      },
      "outputs": [],
      "execution_count": 27
    },
    {
      "cell_type": "code",
      "source": "sns.set_style()",
      "metadata": {
        "trusted": true
      },
      "outputs": [],
      "execution_count": 32
    },
    {
      "cell_type": "code",
      "source": "sns.boxplot(df, y='LotArea' )\n",
      "metadata": {
        "trusted": true
      },
      "outputs": [
        {
          "execution_count": 33,
          "output_type": "execute_result",
          "data": {
            "text/plain": "<AxesSubplot:ylabel='LotArea'>"
          },
          "metadata": {}
        },
        {
          "output_type": "display_data",
          "data": {
            "text/plain": "<Figure size 640x480 with 1 Axes>",
            "image/png": "[encoded data removed]"
          },
          "metadata": {}
        }
      ],
      "execution_count": 33
    },
    {
      "cell_type": "code",
      "source": "Q1= np.percentile(df['LotArea'], 25 , interpolation = 'midpoint')\nQ3= np.percentile(df['LotArea'], 75 , interpolation = 'midpoint')",
      "metadata": {
        "trusted": true
      },
      "outputs": [],
      "execution_count": 34
    },
    {
      "cell_type": "code",
      "source": "IQR = Q3-Q1",
      "metadata": {
        "trusted": true
      },
      "outputs": [],
      "execution_count": 35
    },
    {
      "cell_type": "code",
      "source": "lowerbound = Q1-1.5*IQR\nupperbound = Q3+1.5*IQR\n",
      "metadata": {
        "trusted": true
      },
      "outputs": [],
      "execution_count": 37
    },
    {
      "cell_type": "code",
      "source": "df= df[(df.LotArea < upperbound)& (df.LotArea > lowerbound)]",
      "metadata": {
        "trusted": true
      },
      "outputs": [],
      "execution_count": 38
    },
    {
      "cell_type": "code",
      "source": "df.shape ",
      "metadata": {
        "trusted": true
      },
      "outputs": [
        {
          "execution_count": 39,
          "output_type": "execute_result",
          "data": {
            "text/plain": "(2791, 12)"
          },
          "metadata": {}
        }
      ],
      "execution_count": 39
    },
    {
      "cell_type": "code",
      "source": "df.info()",
      "metadata": {
        "trusted": true
      },
      "outputs": [
        {
          "name": "stdout",
          "text": "<class 'pandas.core.frame.DataFrame'>\nIndex: 2791 entries, 0 to 2918\nData columns (total 12 columns):\n #   Column        Non-Null Count  Dtype  \n---  ------        --------------  -----  \n 0   MSSubClass    2791 non-null   int64  \n 1   MSZoning      2791 non-null   object \n 2   LotArea       2791 non-null   int64  \n 3   LotConfig     2791 non-null   object \n 4   BldgType      2791 non-null   object \n 5   OverallCond   2791 non-null   int64  \n 6   YearBuilt     2791 non-null   int64  \n 7   YearRemodAdd  2791 non-null   int64  \n 8   Exterior1st   2791 non-null   object \n 9   BsmtFinSF2    2791 non-null   float64\n 10  TotalBsmtSF   2791 non-null   float64\n 11  SalePrice     2791 non-null   float64\ndtypes: float64(3), int64(5), object(4)\nmemory usage: 239.9+ KB\n",
          "output_type": "stream"
        }
      ],
      "execution_count": 41
    },
    {
      "cell_type": "code",
      "source": "cat_cal= df.select_dtypes('object').columns.tolist()",
      "metadata": {
        "trusted": true
      },
      "outputs": [],
      "execution_count": 76
    },
    {
      "cell_type": "code",
      "source": "cat_cal",
      "metadata": {
        "trusted": true
      },
      "outputs": [
        {
          "execution_count": 77,
          "output_type": "execute_result",
          "data": {
            "text/plain": "['MSZoning', 'LotConfig', 'BldgType', 'Exterior1st']"
          },
          "metadata": {}
        }
      ],
      "execution_count": 77
    },
    {
      "cell_type": "code",
      "source": "import sklearn\nprint(sklearn.__version__)\n\n%pip install --upgrade scikit-learn\n",
      "metadata": {
        "trusted": true
      },
      "outputs": [
        {
          "name": "stderr",
          "text": "usage: piplite [-h] [--verbose] [--quiet] [--requirements [REQUIREMENTS ...]]\n               [--no-deps] [--pre]\n               {help,install} [packages ...]\npiplite: error: unrecognized arguments: --upgrade scikit-learn\n",
          "output_type": "stream"
        },
        {
          "name": "stdout",
          "text": "1.4.2\n",
          "output_type": "stream"
        }
      ],
      "execution_count": 78
    },
    {
      "cell_type": "code",
      "source": "#from sklearn.preprocessing import OneHotEncoder\n#encoder = OneHotEncoder(sparse = False , handle_unknown = 'ignore')\nfrom sklearn.preprocessing import OneHotEncoder\n\n# Use 'sparse_output' instead of 'sparse'\nencoder = OneHotEncoder(sparse_output=False, handle_unknown='ignore')\n",
      "metadata": {
        "trusted": true
      },
      "outputs": [],
      "execution_count": 82
    },
    {
      "cell_type": "code",
      "source": "df[cat_cal].dtypes\n",
      "metadata": {
        "trusted": true
      },
      "outputs": [
        {
          "execution_count": 87,
          "output_type": "execute_result",
          "data": {
            "text/plain": "MSZoning       object\nLotConfig      object\nBldgType       object\nExterior1st    object\ndtype: object"
          },
          "metadata": {}
        }
      ],
      "execution_count": 87
    },
    {
      "cell_type": "code",
      "source": "from sklearn.preprocessing import OneHotEncoder\n\nencoder = OneHotEncoder(sparse_output=False, handle_unknown='ignore')\n\n# Ensure all categorical columns have string data\ndf[cat_cal] = df[cat_cal].astype(str)\n\n# Fit the encoder\nencoder.fit(df[cat_cal])\n",
      "metadata": {
        "trusted": true
      },
      "outputs": [
        {
          "execution_count": 88,
          "output_type": "execute_result",
          "data": {
            "text/plain": "OneHotEncoder(handle_unknown='ignore', sparse_output=False)",
            "text/html": "<style>#sk-container-id-1 {\n  /* Definition of color scheme common for light and dark mode */\n  --sklearn-color-text: black;\n  --sklearn-color-line: gray;\n  /* Definition of color scheme for unfitted estimators */\n  --sklearn-color-unfitted-level-0: #fff5e6;\n  --sklearn-color-unfitted-level-1: #f6e4d2;\n  --sklearn-color-unfitted-level-2: #ffe0b3;\n  --sklearn-color-unfitted-level-3: chocolate;\n  /* Definition of color scheme for fitted estimators */\n  --sklearn-color-fitted-level-0: #f0f8ff;\n  --sklearn-color-fitted-level-1: #d4ebff;\n  --sklearn-color-fitted-level-2: #b3dbfd;\n  --sklearn-color-fitted-level-3: cornflowerblue;\n\n  /* Specific color for light theme */\n  --sklearn-color-text-on-default-background: var(--sg-text-color, var(--theme-code-foreground, var(--jp-content-font-color1, black)));\n  --sklearn-color-background: var(--sg-background-color, var(--theme-background, var(--jp-layout-color0, white)));\n  --sklearn-color-border-box: var(--sg-text-color, var(--theme-code-foreground, var(--jp-content-font-color1, black)));\n  --sklearn-color-icon: #696969;\n\n  @media (prefers-color-scheme: dark) {\n    /* Redefinition of color scheme for dark theme */\n    --sklearn-color-text-on-default-background: var(--sg-text-color, var(--theme-code-foreground, var(--jp-content-font-color1, white)));\n    --sklearn-color-background: var(--sg-background-color, var(--theme-background, var(--jp-layout-color0, #111)));\n    --sklearn-color-border-box: var(--sg-text-color, var(--theme-code-foreground, var(--jp-content-font-color1, white)));\n    --sklearn-color-icon: #878787;\n  }\n}\n\n#sk-container-id-1 {\n  color: var(--sklearn-color-text);\n}\n\n#sk-container-id-1 pre {\n  padding: 0;\n}\n\n#sk-container-id-1 input.sk-hidden--visually {\n  border: 0;\n  clip: rect(1px 1px 1px 1px);\n  clip: rect(1px, 1px, 1px, 1px);\n  height: 1px;\n  margin: -1px;\n  overflow: hidden;\n  padding: 0;\n  position: absolute;\n  width: 1px;\n}\n\n#sk-container-id-1 div.sk-dashed-wrapped {\n  border: 1px dashed var(--sklearn-color-line);\n  margin: 0 0.4em 0.5em 0.4em;\n  box-sizing: border-box;\n  padding-bottom: 0.4em;\n  background-color: var(--sklearn-color-background);\n}\n\n#sk-container-id-1 div.sk-container {\n  /* jupyter's `normalize.less` sets `[hidden] { display: none; }`\n     but bootstrap.min.css set `[hidden] { display: none !important; }`\n     so we also need the `!important` here to be able to override the\n     default hidden behavior on the sphinx rendered scikit-learn.org.\n     See: https://github.com/scikit-learn/scikit-learn/issues/21755 */\n  display: inline-block !important;\n  position: relative;\n}\n\n#sk-container-id-1 div.sk-text-repr-fallback {\n  display: none;\n}\n\ndiv.sk-parallel-item,\ndiv.sk-serial,\ndiv.sk-item {\n  /* draw centered vertical line to link estimators */\n  background-image: linear-gradient(var(--sklearn-color-text-on-default-background), var(--sklearn-color-text-on-default-background));\n  background-size: 2px 100%;\n  background-repeat: no-repeat;\n  background-position: center center;\n}\n\n/* Parallel-specific style estimator block */\n\n#sk-container-id-1 div.sk-parallel-item::after {\n  content: \"\";\n  width: 100%;\n  border-bottom: 2px solid var(--sklearn-color-text-on-default-background);\n  flex-grow: 1;\n}\n\n#sk-container-id-1 div.sk-parallel {\n  display: flex;\n  align-items: stretch;\n  justify-content: center;\n  background-color: var(--sklearn-color-background);\n  position: relative;\n}\n\n#sk-container-id-1 div.sk-parallel-item {\n  display: flex;\n  flex-direction: column;\n}\n\n#sk-container-id-1 div.sk-parallel-item:first-child::after {\n  align-self: flex-end;\n  width: 50%;\n}\n\n#sk-container-id-1 div.sk-parallel-item:last-child::after {\n  align-self: flex-start;\n  width: 50%;\n}\n\n#sk-container-id-1 div.sk-parallel-item:only-child::after {\n  width: 0;\n}\n\n/* Serial-specific style estimator block */\n\n#sk-container-id-1 div.sk-serial {\n  display: flex;\n  flex-direction: column;\n  align-items: center;\n  background-color: var(--sklearn-color-background);\n  padding-right: 1em;\n  padding-left: 1em;\n}\n\n\n/* Toggleable style: style used for estimator/Pipeline/ColumnTransformer box that is\nclickable and can be expanded/collapsed.\n- Pipeline and ColumnTransformer use this feature and define the default style\n- Estimators will overwrite some part of the style using the `sk-estimator` class\n*/\n\n/* Pipeline and ColumnTransformer style (default) */\n\n#sk-container-id-1 div.sk-toggleable {\n  /* Default theme specific background. It is overwritten whether we have a\n  specific estimator or a Pipeline/ColumnTransformer */\n  background-color: var(--sklearn-color-background);\n}\n\n/* Toggleable label */\n#sk-container-id-1 label.sk-toggleable__label {\n  cursor: pointer;\n  display: block;\n  width: 100%;\n  margin-bottom: 0;\n  padding: 0.5em;\n  box-sizing: border-box;\n  text-align: center;\n}\n\n#sk-container-id-1 label.sk-toggleable__label-arrow:before {\n  /* Arrow on the left of the label */\n  content: \"▸\";\n  float: left;\n  margin-right: 0.25em;\n  color: var(--sklearn-color-icon);\n}\n\n#sk-container-id-1 label.sk-toggleable__label-arrow:hover:before {\n  color: var(--sklearn-color-text);\n}\n\n/* Toggleable content - dropdown */\n\n#sk-container-id-1 div.sk-toggleable__content {\n  max-height: 0;\n  max-width: 0;\n  overflow: hidden;\n  text-align: left;\n  /* unfitted */\n  background-color: var(--sklearn-color-unfitted-level-0);\n}\n\n#sk-container-id-1 div.sk-toggleable__content.fitted {\n  /* fitted */\n  background-color: var(--sklearn-color-fitted-level-0);\n}\n\n#sk-container-id-1 div.sk-toggleable__content pre {\n  margin: 0.2em;\n  border-radius: 0.25em;\n  color: var(--sklearn-color-text);\n  /* unfitted */\n  background-color: var(--sklearn-color-unfitted-level-0);\n}\n\n#sk-container-id-1 div.sk-toggleable__content.fitted pre {\n  /* unfitted */\n  background-color: var(--sklearn-color-fitted-level-0);\n}\n\n#sk-container-id-1 input.sk-toggleable__control:checked~div.sk-toggleable__content {\n  /* Expand drop-down */\n  max-height: 200px;\n  max-width: 100%;\n  overflow: auto;\n}\n\n#sk-container-id-1 input.sk-toggleable__control:checked~label.sk-toggleable__label-arrow:before {\n  content: \"▾\";\n}\n\n/* Pipeline/ColumnTransformer-specific style */\n\n#sk-container-id-1 div.sk-label input.sk-toggleable__control:checked~label.sk-toggleable__label {\n  color: var(--sklearn-color-text);\n  background-color: var(--sklearn-color-unfitted-level-2);\n}\n\n#sk-container-id-1 div.sk-label.fitted input.sk-toggleable__control:checked~label.sk-toggleable__label {\n  background-color: var(--sklearn-color-fitted-level-2);\n}\n\n/* Estimator-specific style */\n\n/* Colorize estimator box */\n#sk-container-id-1 div.sk-estimator input.sk-toggleable__control:checked~label.sk-toggleable__label {\n  /* unfitted */\n  background-color: var(--sklearn-color-unfitted-level-2);\n}\n\n#sk-container-id-1 div.sk-estimator.fitted input.sk-toggleable__control:checked~label.sk-toggleable__label {\n  /* fitted */\n  background-color: var(--sklearn-color-fitted-level-2);\n}\n\n#sk-container-id-1 div.sk-label label.sk-toggleable__label,\n#sk-container-id-1 div.sk-label label {\n  /* The background is the default theme color */\n  color: var(--sklearn-color-text-on-default-background);\n}\n\n/* On hover, darken the color of the background */\n#sk-container-id-1 div.sk-label:hover label.sk-toggleable__label {\n  color: var(--sklearn-color-text);\n  background-color: var(--sklearn-color-unfitted-level-2);\n}\n\n/* Label box, darken color on hover, fitted */\n#sk-container-id-1 div.sk-label.fitted:hover label.sk-toggleable__label.fitted {\n  color: var(--sklearn-color-text);\n  background-color: var(--sklearn-color-fitted-level-2);\n}\n\n/* Estimator label */\n\n#sk-container-id-1 div.sk-label label {\n  font-family: monospace;\n  font-weight: bold;\n  display: inline-block;\n  line-height: 1.2em;\n}\n\n#sk-container-id-1 div.sk-label-container {\n  text-align: center;\n}\n\n/* Estimator-specific */\n#sk-container-id-1 div.sk-estimator {\n  font-family: monospace;\n  border: 1px dotted var(--sklearn-color-border-box);\n  border-radius: 0.25em;\n  box-sizing: border-box;\n  margin-bottom: 0.5em;\n  /* unfitted */\n  background-color: var(--sklearn-color-unfitted-level-0);\n}\n\n#sk-container-id-1 div.sk-estimator.fitted {\n  /* fitted */\n  background-color: var(--sklearn-color-fitted-level-0);\n}\n\n/* on hover */\n#sk-container-id-1 div.sk-estimator:hover {\n  /* unfitted */\n  background-color: var(--sklearn-color-unfitted-level-2);\n}\n\n#sk-container-id-1 div.sk-estimator.fitted:hover {\n  /* fitted */\n  background-color: var(--sklearn-color-fitted-level-2);\n}\n\n/* Specification for estimator info (e.g. \"i\" and \"?\") */\n\n/* Common style for \"i\" and \"?\" */\n\n.sk-estimator-doc-link,\na:link.sk-estimator-doc-link,\na:visited.sk-estimator-doc-link {\n  float: right;\n  font-size: smaller;\n  line-height: 1em;\n  font-family: monospace;\n  background-color: var(--sklearn-color-background);\n  border-radius: 1em;\n  height: 1em;\n  width: 1em;\n  text-decoration: none !important;\n  margin-left: 1ex;\n  /* unfitted */\n  border: var(--sklearn-color-unfitted-level-1) 1pt solid;\n  color: var(--sklearn-color-unfitted-level-1);\n}\n\n.sk-estimator-doc-link.fitted,\na:link.sk-estimator-doc-link.fitted,\na:visited.sk-estimator-doc-link.fitted {\n  /* fitted */\n  border: var(--sklearn-color-fitted-level-1) 1pt solid;\n  color: var(--sklearn-color-fitted-level-1);\n}\n\n/* On hover */\ndiv.sk-estimator:hover .sk-estimator-doc-link:hover,\n.sk-estimator-doc-link:hover,\ndiv.sk-label-container:hover .sk-estimator-doc-link:hover,\n.sk-estimator-doc-link:hover {\n  /* unfitted */\n  background-color: var(--sklearn-color-unfitted-level-3);\n  color: var(--sklearn-color-background);\n  text-decoration: none;\n}\n\ndiv.sk-estimator.fitted:hover .sk-estimator-doc-link.fitted:hover,\n.sk-estimator-doc-link.fitted:hover,\ndiv.sk-label-container:hover .sk-estimator-doc-link.fitted:hover,\n.sk-estimator-doc-link.fitted:hover {\n  /* fitted */\n  background-color: var(--sklearn-color-fitted-level-3);\n  color: var(--sklearn-color-background);\n  text-decoration: none;\n}\n\n/* Span, style for the box shown on hovering the info icon */\n.sk-estimator-doc-link span {\n  display: none;\n  z-index: 9999;\n  position: relative;\n  font-weight: normal;\n  right: .2ex;\n  padding: .5ex;\n  margin: .5ex;\n  width: min-content;\n  min-width: 20ex;\n  max-width: 50ex;\n  color: var(--sklearn-color-text);\n  box-shadow: 2pt 2pt 4pt #999;\n  /* unfitted */\n  background: var(--sklearn-color-unfitted-level-0);\n  border: .5pt solid var(--sklearn-color-unfitted-level-3);\n}\n\n.sk-estimator-doc-link.fitted span {\n  /* fitted */\n  background: var(--sklearn-color-fitted-level-0);\n  border: var(--sklearn-color-fitted-level-3);\n}\n\n.sk-estimator-doc-link:hover span {\n  display: block;\n}\n\n/* \"?\"-specific style due to the `<a>` HTML tag */\n\n#sk-container-id-1 a.estimator_doc_link {\n  float: right;\n  font-size: 1rem;\n  line-height: 1em;\n  font-family: monospace;\n  background-color: var(--sklearn-color-background);\n  border-radius: 1rem;\n  height: 1rem;\n  width: 1rem;\n  text-decoration: none;\n  /* unfitted */\n  color: var(--sklearn-color-unfitted-level-1);\n  border: var(--sklearn-color-unfitted-level-1) 1pt solid;\n}\n\n#sk-container-id-1 a.estimator_doc_link.fitted {\n  /* fitted */\n  border: var(--sklearn-color-fitted-level-1) 1pt solid;\n  color: var(--sklearn-color-fitted-level-1);\n}\n\n/* On hover */\n#sk-container-id-1 a.estimator_doc_link:hover {\n  /* unfitted */\n  background-color: var(--sklearn-color-unfitted-level-3);\n  color: var(--sklearn-color-background);\n  text-decoration: none;\n}\n\n#sk-container-id-1 a.estimator_doc_link.fitted:hover {\n  /* fitted */\n  background-color: var(--sklearn-color-fitted-level-3);\n}\n</style><div id=\"sk-container-id-1\" class=\"sk-top-container\"><div class=\"sk-text-repr-fallback\"><pre>OneHotEncoder(handle_unknown=&#x27;ignore&#x27;, sparse_output=False)</pre><b>In a Jupyter environment, please rerun this cell to show the HTML representation or trust the notebook. <br />On GitHub, the HTML representation is unable to render, please try loading this page with nbviewer.org.</b></div><div class=\"sk-container\" hidden><div class=\"sk-item\"><div class=\"sk-estimator fitted sk-toggleable\"><input class=\"sk-toggleable__control sk-hidden--visually\" id=\"sk-estimator-id-1\" type=\"checkbox\" checked><label for=\"sk-estimator-id-1\" class=\"sk-toggleable__label fitted sk-toggleable__label-arrow fitted\">&nbsp;&nbsp;OneHotEncoder<a class=\"sk-estimator-doc-link fitted\" rel=\"noreferrer\" target=\"_blank\" href=\"https://scikit-learn.org/1.4/modules/generated/sklearn.preprocessing.OneHotEncoder.html\">?<span>Documentation for OneHotEncoder</span></a><span class=\"sk-estimator-doc-link fitted\">i<span>Fitted</span></span></label><div class=\"sk-toggleable__content fitted\"><pre>OneHotEncoder(handle_unknown=&#x27;ignore&#x27;, sparse_output=False)</pre></div> </div></div></div></div>"
          },
          "metadata": {}
        }
      ],
      "execution_count": 88
    },
    {
      "cell_type": "code",
      "source": "encoded_cols= encoder.get_feature_names_out(cat_cal)",
      "metadata": {
        "trusted": true
      },
      "outputs": [],
      "execution_count": 89
    },
    {
      "cell_type": "code",
      "source": "encoded_cols",
      "metadata": {
        "trusted": true
      },
      "outputs": [
        {
          "execution_count": 90,
          "output_type": "execute_result",
          "data": {
            "text/plain": "array(['MSZoning_0', 'MSZoning_C (all)', 'MSZoning_FV', 'MSZoning_RH',\n       'MSZoning_RL', 'MSZoning_RM', 'LotConfig_Corner',\n       'LotConfig_CulDSac', 'LotConfig_FR2', 'LotConfig_FR3',\n       'LotConfig_Inside', 'BldgType_1Fam', 'BldgType_2fmCon',\n       'BldgType_Duplex', 'BldgType_Twnhs', 'BldgType_TwnhsE',\n       'Exterior1st_AsbShng', 'Exterior1st_AsphShn',\n       'Exterior1st_BrkComm', 'Exterior1st_BrkFace', 'Exterior1st_CBlock',\n       'Exterior1st_CemntBd', 'Exterior1st_HdBoard',\n       'Exterior1st_ImStucc', 'Exterior1st_MetalSd',\n       'Exterior1st_Plywood', 'Exterior1st_Stone', 'Exterior1st_Stucco',\n       'Exterior1st_VinylSd', 'Exterior1st_Wd Sdng',\n       'Exterior1st_WdShing'], dtype=object)"
          },
          "metadata": {}
        }
      ],
      "execution_count": 90
    },
    {
      "cell_type": "code",
      "source": "df[encoded_cols]= encoder.transform(df[cat_cal])",
      "metadata": {
        "trusted": true
      },
      "outputs": [],
      "execution_count": 91
    },
    {
      "cell_type": "code",
      "source": "df",
      "metadata": {
        "trusted": true
      },
      "outputs": [
        {
          "execution_count": 92,
          "output_type": "execute_result",
          "data": {
            "text/plain": "      MSSubClass MSZoning  LotArea LotConfig BldgType  OverallCond  YearBuilt  \\\n0             60       RL     8450    Inside     1Fam            5       2003   \n1             20       RL     9600       FR2     1Fam            8       1976   \n2             60       RL    11250    Inside     1Fam            5       2001   \n3             70       RL     9550    Corner     1Fam            5       1915   \n4             60       RL    14260       FR2     1Fam            5       2000   \n...          ...      ...      ...       ...      ...          ...        ...   \n2913         160       RM     1526    Inside    Twnhs            5       1970   \n2914         160       RM     1936    Inside    Twnhs            7       1970   \n2915         160       RM     1894    Inside   TwnhsE            5       1970   \n2917          85       RL    10441    Inside     1Fam            5       1992   \n2918          60       RL     9627    Inside     1Fam            5       1993   \n\n      YearRemodAdd Exterior1st  BsmtFinSF2  ...  Exterior1st_CemntBd  \\\n0             2003     VinylSd         0.0  ...                  0.0   \n1             1976     MetalSd         0.0  ...                  0.0   \n2             2002     VinylSd         0.0  ...                  0.0   \n3             1970     Wd Sdng         0.0  ...                  0.0   \n4             2000     VinylSd         0.0  ...                  0.0   \n...            ...         ...         ...  ...                  ...   \n2913          1970     CemntBd         0.0  ...                  1.0   \n2914          1970     CemntBd         0.0  ...                  1.0   \n2915          1970     CemntBd         0.0  ...                  1.0   \n2917          1992     HdBoard         0.0  ...                  0.0   \n2918          1994     HdBoard         0.0  ...                  0.0   \n\n      Exterior1st_HdBoard  Exterior1st_ImStucc  Exterior1st_MetalSd  \\\n0                     0.0                  0.0                  0.0   \n1                     0.0                  0.0                  1.0   \n2                     0.0                  0.0                  0.0   \n3                     0.0                  0.0                  0.0   \n4                     0.0                  0.0                  0.0   \n...                   ...                  ...                  ...   \n2913                  0.0                  0.0                  0.0   \n2914                  0.0                  0.0                  0.0   \n2915                  0.0                  0.0                  0.0   \n2917                  1.0                  0.0                  0.0   \n2918                  1.0                  0.0                  0.0   \n\n      Exterior1st_Plywood  Exterior1st_Stone  Exterior1st_Stucco  \\\n0                     0.0                0.0                 0.0   \n1                     0.0                0.0                 0.0   \n2                     0.0                0.0                 0.0   \n3                     0.0                0.0                 0.0   \n4                     0.0                0.0                 0.0   \n...                   ...                ...                 ...   \n2913                  0.0                0.0                 0.0   \n2914                  0.0                0.0                 0.0   \n2915                  0.0                0.0                 0.0   \n2917                  0.0                0.0                 0.0   \n2918                  0.0                0.0                 0.0   \n\n      Exterior1st_VinylSd  Exterior1st_Wd Sdng  Exterior1st_WdShing  \n0                     1.0                  0.0                  0.0  \n1                     0.0                  0.0                  0.0  \n2                     1.0                  0.0                  0.0  \n3                     0.0                  1.0                  0.0  \n4                     1.0                  0.0                  0.0  \n...                   ...                  ...                  ...  \n2913                  0.0                  0.0                  0.0  \n2914                  0.0                  0.0                  0.0  \n2915                  0.0                  0.0                  0.0  \n2917                  0.0                  0.0                  0.0  \n2918                  0.0                  0.0                  0.0  \n\n[2791 rows x 43 columns]",
            "text/html": "<div>\n<style scoped>\n    .dataframe tbody tr th:only-of-type {\n        vertical-align: middle;\n    }\n\n    .dataframe tbody tr th {\n        vertical-align: top;\n    }\n\n    .dataframe thead th {\n        text-align: right;\n    }\n</style>\n<table border=\"1\" class=\"dataframe\">\n  <thead>\n    <tr style=\"text-align: right;\">\n      <th></th>\n      <th>MSSubClass</th>\n      <th>MSZoning</th>\n      <th>LotArea</th>\n      <th>LotConfig</th>\n      <th>BldgType</th>\n      <th>OverallCond</th>\n      <th>YearBuilt</th>\n      <th>YearRemodAdd</th>\n      <th>Exterior1st</th>\n      <th>BsmtFinSF2</th>\n      <th>...</th>\n      <th>Exterior1st_CemntBd</th>\n      <th>Exterior1st_HdBoard</th>\n      <th>Exterior1st_ImStucc</th>\n      <th>Exterior1st_MetalSd</th>\n      <th>Exterior1st_Plywood</th>\n      <th>Exterior1st_Stone</th>\n      <th>Exterior1st_Stucco</th>\n      <th>Exterior1st_VinylSd</th>\n      <th>Exterior1st_Wd Sdng</th>\n      <th>Exterior1st_WdShing</th>\n    </tr>\n  </thead>\n  <tbody>\n    <tr>\n      <th>0</th>\n      <td>60</td>\n      <td>RL</td>\n      <td>8450</td>\n      <td>Inside</td>\n      <td>1Fam</td>\n      <td>5</td>\n      <td>2003</td>\n      <td>2003</td>\n      <td>VinylSd</td>\n      <td>0.0</td>\n      <td>...</td>\n      <td>0.0</td>\n      <td>0.0</td>\n      <td>0.0</td>\n      <td>0.0</td>\n      <td>0.0</td>\n      <td>0.0</td>\n      <td>0.0</td>\n      <td>1.0</td>\n      <td>0.0</td>\n      <td>0.0</td>\n    </tr>\n    <tr>\n      <th>1</th>\n      <td>20</td>\n      <td>RL</td>\n      <td>9600</td>\n      <td>FR2</td>\n      <td>1Fam</td>\n      <td>8</td>\n      <td>1976</td>\n      <td>1976</td>\n      <td>MetalSd</td>\n      <td>0.0</td>\n      <td>...</td>\n      <td>0.0</td>\n      <td>0.0</td>\n      <td>0.0</td>\n      <td>1.0</td>\n      <td>0.0</td>\n      <td>0.0</td>\n      <td>0.0</td>\n      <td>0.0</td>\n      <td>0.0</td>\n      <td>0.0</td>\n    </tr>\n    <tr>\n      <th>2</th>\n      <td>60</td>\n      <td>RL</td>\n      <td>11250</td>\n      <td>Inside</td>\n      <td>1Fam</td>\n      <td>5</td>\n      <td>2001</td>\n      <td>2002</td>\n      <td>VinylSd</td>\n      <td>0.0</td>\n      <td>...</td>\n      <td>0.0</td>\n      <td>0.0</td>\n      <td>0.0</td>\n      <td>0.0</td>\n      <td>0.0</td>\n      <td>0.0</td>\n      <td>0.0</td>\n      <td>1.0</td>\n      <td>0.0</td>\n      <td>0.0</td>\n    </tr>\n    <tr>\n      <th>3</th>\n      <td>70</td>\n      <td>RL</td>\n      <td>9550</td>\n      <td>Corner</td>\n      <td>1Fam</td>\n      <td>5</td>\n      <td>1915</td>\n      <td>1970</td>\n      <td>Wd Sdng</td>\n      <td>0.0</td>\n      <td>...</td>\n      <td>0.0</td>\n      <td>0.0</td>\n      <td>0.0</td>\n      <td>0.0</td>\n      <td>0.0</td>\n      <td>0.0</td>\n      <td>0.0</td>\n      <td>0.0</td>\n      <td>1.0</td>\n      <td>0.0</td>\n    </tr>\n    <tr>\n      <th>4</th>\n      <td>60</td>\n      <td>RL</td>\n      <td>14260</td>\n      <td>FR2</td>\n      <td>1Fam</td>\n      <td>5</td>\n      <td>2000</td>\n      <td>2000</td>\n      <td>VinylSd</td>\n      <td>0.0</td>\n      <td>...</td>\n      <td>0.0</td>\n      <td>0.0</td>\n      <td>0.0</td>\n      <td>0.0</td>\n      <td>0.0</td>\n      <td>0.0</td>\n      <td>0.0</td>\n      <td>1.0</td>\n      <td>0.0</td>\n      <td>0.0</td>\n    </tr>\n    <tr>\n      <th>...</th>\n      <td>...</td>\n      <td>...</td>\n      <td>...</td>\n      <td>...</td>\n      <td>...</td>\n      <td>...</td>\n      <td>...</td>\n      <td>...</td>\n      <td>...</td>\n      <td>...</td>\n      <td>...</td>\n      <td>...</td>\n      <td>...</td>\n      <td>...</td>\n      <td>...</td>\n      <td>...</td>\n      <td>...</td>\n      <td>...</td>\n      <td>...</td>\n      <td>...</td>\n      <td>...</td>\n    </tr>\n    <tr>\n      <th>2913</th>\n      <td>160</td>\n      <td>RM</td>\n      <td>1526</td>\n      <td>Inside</td>\n      <td>Twnhs</td>\n      <td>5</td>\n      <td>1970</td>\n      <td>1970</td>\n      <td>CemntBd</td>\n      <td>0.0</td>\n      <td>...</td>\n      <td>1.0</td>\n      <td>0.0</td>\n      <td>0.0</td>\n      <td>0.0</td>\n      <td>0.0</td>\n      <td>0.0</td>\n      <td>0.0</td>\n      <td>0.0</td>\n      <td>0.0</td>\n      <td>0.0</td>\n    </tr>\n    <tr>\n      <th>2914</th>\n      <td>160</td>\n      <td>RM</td>\n      <td>1936</td>\n      <td>Inside</td>\n      <td>Twnhs</td>\n      <td>7</td>\n      <td>1970</td>\n      <td>1970</td>\n      <td>CemntBd</td>\n      <td>0.0</td>\n      <td>...</td>\n      <td>1.0</td>\n      <td>0.0</td>\n      <td>0.0</td>\n      <td>0.0</td>\n      <td>0.0</td>\n      <td>0.0</td>\n      <td>0.0</td>\n      <td>0.0</td>\n      <td>0.0</td>\n      <td>0.0</td>\n    </tr>\n    <tr>\n      <th>2915</th>\n      <td>160</td>\n      <td>RM</td>\n      <td>1894</td>\n      <td>Inside</td>\n      <td>TwnhsE</td>\n      <td>5</td>\n      <td>1970</td>\n      <td>1970</td>\n      <td>CemntBd</td>\n      <td>0.0</td>\n      <td>...</td>\n      <td>1.0</td>\n      <td>0.0</td>\n      <td>0.0</td>\n      <td>0.0</td>\n      <td>0.0</td>\n      <td>0.0</td>\n      <td>0.0</td>\n      <td>0.0</td>\n      <td>0.0</td>\n      <td>0.0</td>\n    </tr>\n    <tr>\n      <th>2917</th>\n      <td>85</td>\n      <td>RL</td>\n      <td>10441</td>\n      <td>Inside</td>\n      <td>1Fam</td>\n      <td>5</td>\n      <td>1992</td>\n      <td>1992</td>\n      <td>HdBoard</td>\n      <td>0.0</td>\n      <td>...</td>\n      <td>0.0</td>\n      <td>1.0</td>\n      <td>0.0</td>\n      <td>0.0</td>\n      <td>0.0</td>\n      <td>0.0</td>\n      <td>0.0</td>\n      <td>0.0</td>\n      <td>0.0</td>\n      <td>0.0</td>\n    </tr>\n    <tr>\n      <th>2918</th>\n      <td>60</td>\n      <td>RL</td>\n      <td>9627</td>\n      <td>Inside</td>\n      <td>1Fam</td>\n      <td>5</td>\n      <td>1993</td>\n      <td>1994</td>\n      <td>HdBoard</td>\n      <td>0.0</td>\n      <td>...</td>\n      <td>0.0</td>\n      <td>1.0</td>\n      <td>0.0</td>\n      <td>0.0</td>\n      <td>0.0</td>\n      <td>0.0</td>\n      <td>0.0</td>\n      <td>0.0</td>\n      <td>0.0</td>\n      <td>0.0</td>\n    </tr>\n  </tbody>\n</table>\n<p>2791 rows × 43 columns</p>\n</div>"
          },
          "metadata": {}
        }
      ],
      "execution_count": 92
    },
    {
      "cell_type": "code",
      "source": "df.drop(columns=cat_cal, inplace = True)",
      "metadata": {
        "trusted": true
      },
      "outputs": [],
      "execution_count": 94
    },
    {
      "cell_type": "code",
      "source": "df",
      "metadata": {
        "trusted": true
      },
      "outputs": [
        {
          "execution_count": 95,
          "output_type": "execute_result",
          "data": {
            "text/plain": "      MSSubClass  LotArea  OverallCond  YearBuilt  YearRemodAdd  BsmtFinSF2  \\\n0             60     8450            5       2003          2003         0.0   \n1             20     9600            8       1976          1976         0.0   \n2             60    11250            5       2001          2002         0.0   \n3             70     9550            5       1915          1970         0.0   \n4             60    14260            5       2000          2000         0.0   \n...          ...      ...          ...        ...           ...         ...   \n2913         160     1526            5       1970          1970         0.0   \n2914         160     1936            7       1970          1970         0.0   \n2915         160     1894            5       1970          1970         0.0   \n2917          85    10441            5       1992          1992         0.0   \n2918          60     9627            5       1993          1994         0.0   \n\n      TotalBsmtSF  SalePrice  MSZoning_0  MSZoning_C (all)  ...  \\\n0           856.0   208500.0         0.0               0.0  ...   \n1          1262.0   181500.0         0.0               0.0  ...   \n2           920.0   223500.0         0.0               0.0  ...   \n3           756.0   140000.0         0.0               0.0  ...   \n4          1145.0   250000.0         0.0               0.0  ...   \n...           ...        ...         ...               ...  ...   \n2913        546.0   180921.0         0.0               0.0  ...   \n2914        546.0   180921.0         0.0               0.0  ...   \n2915        546.0   180921.0         0.0               0.0  ...   \n2917        912.0   180921.0         0.0               0.0  ...   \n2918        996.0   180921.0         0.0               0.0  ...   \n\n      Exterior1st_CemntBd  Exterior1st_HdBoard  Exterior1st_ImStucc  \\\n0                     0.0                  0.0                  0.0   \n1                     0.0                  0.0                  0.0   \n2                     0.0                  0.0                  0.0   \n3                     0.0                  0.0                  0.0   \n4                     0.0                  0.0                  0.0   \n...                   ...                  ...                  ...   \n2913                  1.0                  0.0                  0.0   \n2914                  1.0                  0.0                  0.0   \n2915                  1.0                  0.0                  0.0   \n2917                  0.0                  1.0                  0.0   \n2918                  0.0                  1.0                  0.0   \n\n      Exterior1st_MetalSd  Exterior1st_Plywood  Exterior1st_Stone  \\\n0                     0.0                  0.0                0.0   \n1                     1.0                  0.0                0.0   \n2                     0.0                  0.0                0.0   \n3                     0.0                  0.0                0.0   \n4                     0.0                  0.0                0.0   \n...                   ...                  ...                ...   \n2913                  0.0                  0.0                0.0   \n2914                  0.0                  0.0                0.0   \n2915                  0.0                  0.0                0.0   \n2917                  0.0                  0.0                0.0   \n2918                  0.0                  0.0                0.0   \n\n      Exterior1st_Stucco  Exterior1st_VinylSd  Exterior1st_Wd Sdng  \\\n0                    0.0                  1.0                  0.0   \n1                    0.0                  0.0                  0.0   \n2                    0.0                  1.0                  0.0   \n3                    0.0                  0.0                  1.0   \n4                    0.0                  1.0                  0.0   \n...                  ...                  ...                  ...   \n2913                 0.0                  0.0                  0.0   \n2914                 0.0                  0.0                  0.0   \n2915                 0.0                  0.0                  0.0   \n2917                 0.0                  0.0                  0.0   \n2918                 0.0                  0.0                  0.0   \n\n      Exterior1st_WdShing  \n0                     0.0  \n1                     0.0  \n2                     0.0  \n3                     0.0  \n4                     0.0  \n...                   ...  \n2913                  0.0  \n2914                  0.0  \n2915                  0.0  \n2917                  0.0  \n2918                  0.0  \n\n[2791 rows x 39 columns]",
            "text/html": "<div>\n<style scoped>\n    .dataframe tbody tr th:only-of-type {\n        vertical-align: middle;\n    }\n\n    .dataframe tbody tr th {\n        vertical-align: top;\n    }\n\n    .dataframe thead th {\n        text-align: right;\n    }\n</style>\n<table border=\"1\" class=\"dataframe\">\n  <thead>\n    <tr style=\"text-align: right;\">\n      <th></th>\n      <th>MSSubClass</th>\n      <th>LotArea</th>\n      <th>OverallCond</th>\n      <th>YearBuilt</th>\n      <th>YearRemodAdd</th>\n      <th>BsmtFinSF2</th>\n      <th>TotalBsmtSF</th>\n      <th>SalePrice</th>\n      <th>MSZoning_0</th>\n      <th>MSZoning_C (all)</th>\n      <th>...</th>\n      <th>Exterior1st_CemntBd</th>\n      <th>Exterior1st_HdBoard</th>\n      <th>Exterior1st_ImStucc</th>\n      <th>Exterior1st_MetalSd</th>\n      <th>Exterior1st_Plywood</th>\n      <th>Exterior1st_Stone</th>\n      <th>Exterior1st_Stucco</th>\n      <th>Exterior1st_VinylSd</th>\n      <th>Exterior1st_Wd Sdng</th>\n      <th>Exterior1st_WdShing</th>\n    </tr>\n  </thead>\n  <tbody>\n    <tr>\n      <th>0</th>\n      <td>60</td>\n      <td>8450</td>\n      <td>5</td>\n      <td>2003</td>\n      <td>2003</td>\n      <td>0.0</td>\n      <td>856.0</td>\n      <td>208500.0</td>\n      <td>0.0</td>\n      <td>0.0</td>\n      <td>...</td>\n      <td>0.0</td>\n      <td>0.0</td>\n      <td>0.0</td>\n      <td>0.0</td>\n      <td>0.0</td>\n      <td>0.0</td>\n      <td>0.0</td>\n      <td>1.0</td>\n      <td>0.0</td>\n      <td>0.0</td>\n    </tr>\n    <tr>\n      <th>1</th>\n      <td>20</td>\n      <td>9600</td>\n      <td>8</td>\n      <td>1976</td>\n      <td>1976</td>\n      <td>0.0</td>\n      <td>1262.0</td>\n      <td>181500.0</td>\n      <td>0.0</td>\n      <td>0.0</td>\n      <td>...</td>\n      <td>0.0</td>\n      <td>0.0</td>\n      <td>0.0</td>\n      <td>1.0</td>\n      <td>0.0</td>\n      <td>0.0</td>\n      <td>0.0</td>\n      <td>0.0</td>\n      <td>0.0</td>\n      <td>0.0</td>\n    </tr>\n    <tr>\n      <th>2</th>\n      <td>60</td>\n      <td>11250</td>\n      <td>5</td>\n      <td>2001</td>\n      <td>2002</td>\n      <td>0.0</td>\n      <td>920.0</td>\n      <td>223500.0</td>\n      <td>0.0</td>\n      <td>0.0</td>\n      <td>...</td>\n      <td>0.0</td>\n      <td>0.0</td>\n      <td>0.0</td>\n      <td>0.0</td>\n      <td>0.0</td>\n      <td>0.0</td>\n      <td>0.0</td>\n      <td>1.0</td>\n      <td>0.0</td>\n      <td>0.0</td>\n    </tr>\n    <tr>\n      <th>3</th>\n      <td>70</td>\n      <td>9550</td>\n      <td>5</td>\n      <td>1915</td>\n      <td>1970</td>\n      <td>0.0</td>\n      <td>756.0</td>\n      <td>140000.0</td>\n      <td>0.0</td>\n      <td>0.0</td>\n      <td>...</td>\n      <td>0.0</td>\n      <td>0.0</td>\n      <td>0.0</td>\n      <td>0.0</td>\n      <td>0.0</td>\n      <td>0.0</td>\n      <td>0.0</td>\n      <td>0.0</td>\n      <td>1.0</td>\n      <td>0.0</td>\n    </tr>\n    <tr>\n      <th>4</th>\n      <td>60</td>\n      <td>14260</td>\n      <td>5</td>\n      <td>2000</td>\n      <td>2000</td>\n      <td>0.0</td>\n      <td>1145.0</td>\n      <td>250000.0</td>\n      <td>0.0</td>\n      <td>0.0</td>\n      <td>...</td>\n      <td>0.0</td>\n      <td>0.0</td>\n      <td>0.0</td>\n      <td>0.0</td>\n      <td>0.0</td>\n      <td>0.0</td>\n      <td>0.0</td>\n      <td>1.0</td>\n      <td>0.0</td>\n      <td>0.0</td>\n    </tr>\n    <tr>\n      <th>...</th>\n      <td>...</td>\n      <td>...</td>\n      <td>...</td>\n      <td>...</td>\n      <td>...</td>\n      <td>...</td>\n      <td>...</td>\n      <td>...</td>\n      <td>...</td>\n      <td>...</td>\n      <td>...</td>\n      <td>...</td>\n      <td>...</td>\n      <td>...</td>\n      <td>...</td>\n      <td>...</td>\n      <td>...</td>\n      <td>...</td>\n      <td>...</td>\n      <td>...</td>\n      <td>...</td>\n    </tr>\n    <tr>\n      <th>2913</th>\n      <td>160</td>\n      <td>1526</td>\n      <td>5</td>\n      <td>1970</td>\n      <td>1970</td>\n      <td>0.0</td>\n      <td>546.0</td>\n      <td>180921.0</td>\n      <td>0.0</td>\n      <td>0.0</td>\n      <td>...</td>\n      <td>1.0</td>\n      <td>0.0</td>\n      <td>0.0</td>\n      <td>0.0</td>\n      <td>0.0</td>\n      <td>0.0</td>\n      <td>0.0</td>\n      <td>0.0</td>\n      <td>0.0</td>\n      <td>0.0</td>\n    </tr>\n    <tr>\n      <th>2914</th>\n      <td>160</td>\n      <td>1936</td>\n      <td>7</td>\n      <td>1970</td>\n      <td>1970</td>\n      <td>0.0</td>\n      <td>546.0</td>\n      <td>180921.0</td>\n      <td>0.0</td>\n      <td>0.0</td>\n      <td>...</td>\n      <td>1.0</td>\n      <td>0.0</td>\n      <td>0.0</td>\n      <td>0.0</td>\n      <td>0.0</td>\n      <td>0.0</td>\n      <td>0.0</td>\n      <td>0.0</td>\n      <td>0.0</td>\n      <td>0.0</td>\n    </tr>\n    <tr>\n      <th>2915</th>\n      <td>160</td>\n      <td>1894</td>\n      <td>5</td>\n      <td>1970</td>\n      <td>1970</td>\n      <td>0.0</td>\n      <td>546.0</td>\n      <td>180921.0</td>\n      <td>0.0</td>\n      <td>0.0</td>\n      <td>...</td>\n      <td>1.0</td>\n      <td>0.0</td>\n      <td>0.0</td>\n      <td>0.0</td>\n      <td>0.0</td>\n      <td>0.0</td>\n      <td>0.0</td>\n      <td>0.0</td>\n      <td>0.0</td>\n      <td>0.0</td>\n    </tr>\n    <tr>\n      <th>2917</th>\n      <td>85</td>\n      <td>10441</td>\n      <td>5</td>\n      <td>1992</td>\n      <td>1992</td>\n      <td>0.0</td>\n      <td>912.0</td>\n      <td>180921.0</td>\n      <td>0.0</td>\n      <td>0.0</td>\n      <td>...</td>\n      <td>0.0</td>\n      <td>1.0</td>\n      <td>0.0</td>\n      <td>0.0</td>\n      <td>0.0</td>\n      <td>0.0</td>\n      <td>0.0</td>\n      <td>0.0</td>\n      <td>0.0</td>\n      <td>0.0</td>\n    </tr>\n    <tr>\n      <th>2918</th>\n      <td>60</td>\n      <td>9627</td>\n      <td>5</td>\n      <td>1993</td>\n      <td>1994</td>\n      <td>0.0</td>\n      <td>996.0</td>\n      <td>180921.0</td>\n      <td>0.0</td>\n      <td>0.0</td>\n      <td>...</td>\n      <td>0.0</td>\n      <td>1.0</td>\n      <td>0.0</td>\n      <td>0.0</td>\n      <td>0.0</td>\n      <td>0.0</td>\n      <td>0.0</td>\n      <td>0.0</td>\n      <td>0.0</td>\n      <td>0.0</td>\n    </tr>\n  </tbody>\n</table>\n<p>2791 rows × 39 columns</p>\n</div>"
          },
          "metadata": {}
        }
      ],
      "execution_count": 95
    },
    {
      "cell_type": "code",
      "source": "X = df.drop(columns = 'SalePrice')\ny= df['SalePrice']",
      "metadata": {
        "trusted": true
      },
      "outputs": [],
      "execution_count": 97
    },
    {
      "cell_type": "code",
      "source": "X",
      "metadata": {
        "trusted": true
      },
      "outputs": [
        {
          "execution_count": 99,
          "output_type": "execute_result",
          "data": {
            "text/plain": "      MSSubClass  LotArea  OverallCond  YearBuilt  YearRemodAdd  BsmtFinSF2  \\\n0             60     8450            5       2003          2003         0.0   \n1             20     9600            8       1976          1976         0.0   \n2             60    11250            5       2001          2002         0.0   \n3             70     9550            5       1915          1970         0.0   \n4             60    14260            5       2000          2000         0.0   \n...          ...      ...          ...        ...           ...         ...   \n2913         160     1526            5       1970          1970         0.0   \n2914         160     1936            7       1970          1970         0.0   \n2915         160     1894            5       1970          1970         0.0   \n2917          85    10441            5       1992          1992         0.0   \n2918          60     9627            5       1993          1994         0.0   \n\n      TotalBsmtSF  MSZoning_0  MSZoning_C (all)  MSZoning_FV  ...  \\\n0           856.0         0.0               0.0          0.0  ...   \n1          1262.0         0.0               0.0          0.0  ...   \n2           920.0         0.0               0.0          0.0  ...   \n3           756.0         0.0               0.0          0.0  ...   \n4          1145.0         0.0               0.0          0.0  ...   \n...           ...         ...               ...          ...  ...   \n2913        546.0         0.0               0.0          0.0  ...   \n2914        546.0         0.0               0.0          0.0  ...   \n2915        546.0         0.0               0.0          0.0  ...   \n2917        912.0         0.0               0.0          0.0  ...   \n2918        996.0         0.0               0.0          0.0  ...   \n\n      Exterior1st_CemntBd  Exterior1st_HdBoard  Exterior1st_ImStucc  \\\n0                     0.0                  0.0                  0.0   \n1                     0.0                  0.0                  0.0   \n2                     0.0                  0.0                  0.0   \n3                     0.0                  0.0                  0.0   \n4                     0.0                  0.0                  0.0   \n...                   ...                  ...                  ...   \n2913                  1.0                  0.0                  0.0   \n2914                  1.0                  0.0                  0.0   \n2915                  1.0                  0.0                  0.0   \n2917                  0.0                  1.0                  0.0   \n2918                  0.0                  1.0                  0.0   \n\n      Exterior1st_MetalSd  Exterior1st_Plywood  Exterior1st_Stone  \\\n0                     0.0                  0.0                0.0   \n1                     1.0                  0.0                0.0   \n2                     0.0                  0.0                0.0   \n3                     0.0                  0.0                0.0   \n4                     0.0                  0.0                0.0   \n...                   ...                  ...                ...   \n2913                  0.0                  0.0                0.0   \n2914                  0.0                  0.0                0.0   \n2915                  0.0                  0.0                0.0   \n2917                  0.0                  0.0                0.0   \n2918                  0.0                  0.0                0.0   \n\n      Exterior1st_Stucco  Exterior1st_VinylSd  Exterior1st_Wd Sdng  \\\n0                    0.0                  1.0                  0.0   \n1                    0.0                  0.0                  0.0   \n2                    0.0                  1.0                  0.0   \n3                    0.0                  0.0                  1.0   \n4                    0.0                  1.0                  0.0   \n...                  ...                  ...                  ...   \n2913                 0.0                  0.0                  0.0   \n2914                 0.0                  0.0                  0.0   \n2915                 0.0                  0.0                  0.0   \n2917                 0.0                  0.0                  0.0   \n2918                 0.0                  0.0                  0.0   \n\n      Exterior1st_WdShing  \n0                     0.0  \n1                     0.0  \n2                     0.0  \n3                     0.0  \n4                     0.0  \n...                   ...  \n2913                  0.0  \n2914                  0.0  \n2915                  0.0  \n2917                  0.0  \n2918                  0.0  \n\n[2791 rows x 38 columns]",
            "text/html": "<div>\n<style scoped>\n    .dataframe tbody tr th:only-of-type {\n        vertical-align: middle;\n    }\n\n    .dataframe tbody tr th {\n        vertical-align: top;\n    }\n\n    .dataframe thead th {\n        text-align: right;\n    }\n</style>\n<table border=\"1\" class=\"dataframe\">\n  <thead>\n    <tr style=\"text-align: right;\">\n      <th></th>\n      <th>MSSubClass</th>\n      <th>LotArea</th>\n      <th>OverallCond</th>\n      <th>YearBuilt</th>\n      <th>YearRemodAdd</th>\n      <th>BsmtFinSF2</th>\n      <th>TotalBsmtSF</th>\n      <th>MSZoning_0</th>\n      <th>MSZoning_C (all)</th>\n      <th>MSZoning_FV</th>\n      <th>...</th>\n      <th>Exterior1st_CemntBd</th>\n      <th>Exterior1st_HdBoard</th>\n      <th>Exterior1st_ImStucc</th>\n      <th>Exterior1st_MetalSd</th>\n      <th>Exterior1st_Plywood</th>\n      <th>Exterior1st_Stone</th>\n      <th>Exterior1st_Stucco</th>\n      <th>Exterior1st_VinylSd</th>\n      <th>Exterior1st_Wd Sdng</th>\n      <th>Exterior1st_WdShing</th>\n    </tr>\n  </thead>\n  <tbody>\n    <tr>\n      <th>0</th>\n      <td>60</td>\n      <td>8450</td>\n      <td>5</td>\n      <td>2003</td>\n      <td>2003</td>\n      <td>0.0</td>\n      <td>856.0</td>\n      <td>0.0</td>\n      <td>0.0</td>\n      <td>0.0</td>\n      <td>...</td>\n      <td>0.0</td>\n      <td>0.0</td>\n      <td>0.0</td>\n      <td>0.0</td>\n      <td>0.0</td>\n      <td>0.0</td>\n      <td>0.0</td>\n      <td>1.0</td>\n      <td>0.0</td>\n      <td>0.0</td>\n    </tr>\n    <tr>\n      <th>1</th>\n      <td>20</td>\n      <td>9600</td>\n      <td>8</td>\n      <td>1976</td>\n      <td>1976</td>\n      <td>0.0</td>\n      <td>1262.0</td>\n      <td>0.0</td>\n      <td>0.0</td>\n      <td>0.0</td>\n      <td>...</td>\n      <td>0.0</td>\n      <td>0.0</td>\n      <td>0.0</td>\n      <td>1.0</td>\n      <td>0.0</td>\n      <td>0.0</td>\n      <td>0.0</td>\n      <td>0.0</td>\n      <td>0.0</td>\n      <td>0.0</td>\n    </tr>\n    <tr>\n      <th>2</th>\n      <td>60</td>\n      <td>11250</td>\n      <td>5</td>\n      <td>2001</td>\n      <td>2002</td>\n      <td>0.0</td>\n      <td>920.0</td>\n      <td>0.0</td>\n      <td>0.0</td>\n      <td>0.0</td>\n      <td>...</td>\n      <td>0.0</td>\n      <td>0.0</td>\n      <td>0.0</td>\n      <td>0.0</td>\n      <td>0.0</td>\n      <td>0.0</td>\n      <td>0.0</td>\n      <td>1.0</td>\n      <td>0.0</td>\n      <td>0.0</td>\n    </tr>\n    <tr>\n      <th>3</th>\n      <td>70</td>\n      <td>9550</td>\n      <td>5</td>\n      <td>1915</td>\n      <td>1970</td>\n      <td>0.0</td>\n      <td>756.0</td>\n      <td>0.0</td>\n      <td>0.0</td>\n      <td>0.0</td>\n      <td>...</td>\n      <td>0.0</td>\n      <td>0.0</td>\n      <td>0.0</td>\n      <td>0.0</td>\n      <td>0.0</td>\n      <td>0.0</td>\n      <td>0.0</td>\n      <td>0.0</td>\n      <td>1.0</td>\n      <td>0.0</td>\n    </tr>\n    <tr>\n      <th>4</th>\n      <td>60</td>\n      <td>14260</td>\n      <td>5</td>\n      <td>2000</td>\n      <td>2000</td>\n      <td>0.0</td>\n      <td>1145.0</td>\n      <td>0.0</td>\n      <td>0.0</td>\n      <td>0.0</td>\n      <td>...</td>\n      <td>0.0</td>\n      <td>0.0</td>\n      <td>0.0</td>\n      <td>0.0</td>\n      <td>0.0</td>\n      <td>0.0</td>\n      <td>0.0</td>\n      <td>1.0</td>\n      <td>0.0</td>\n      <td>0.0</td>\n    </tr>\n    <tr>\n      <th>...</th>\n      <td>...</td>\n      <td>...</td>\n      <td>...</td>\n      <td>...</td>\n      <td>...</td>\n      <td>...</td>\n      <td>...</td>\n      <td>...</td>\n      <td>...</td>\n      <td>...</td>\n      <td>...</td>\n      <td>...</td>\n      <td>...</td>\n      <td>...</td>\n      <td>...</td>\n      <td>...</td>\n      <td>...</td>\n      <td>...</td>\n      <td>...</td>\n      <td>...</td>\n      <td>...</td>\n    </tr>\n    <tr>\n      <th>2913</th>\n      <td>160</td>\n      <td>1526</td>\n      <td>5</td>\n      <td>1970</td>\n      <td>1970</td>\n      <td>0.0</td>\n      <td>546.0</td>\n      <td>0.0</td>\n      <td>0.0</td>\n      <td>0.0</td>\n      <td>...</td>\n      <td>1.0</td>\n      <td>0.0</td>\n      <td>0.0</td>\n      <td>0.0</td>\n      <td>0.0</td>\n      <td>0.0</td>\n      <td>0.0</td>\n      <td>0.0</td>\n      <td>0.0</td>\n      <td>0.0</td>\n    </tr>\n    <tr>\n      <th>2914</th>\n      <td>160</td>\n      <td>1936</td>\n      <td>7</td>\n      <td>1970</td>\n      <td>1970</td>\n      <td>0.0</td>\n      <td>546.0</td>\n      <td>0.0</td>\n      <td>0.0</td>\n      <td>0.0</td>\n      <td>...</td>\n      <td>1.0</td>\n      <td>0.0</td>\n      <td>0.0</td>\n      <td>0.0</td>\n      <td>0.0</td>\n      <td>0.0</td>\n      <td>0.0</td>\n      <td>0.0</td>\n      <td>0.0</td>\n      <td>0.0</td>\n    </tr>\n    <tr>\n      <th>2915</th>\n      <td>160</td>\n      <td>1894</td>\n      <td>5</td>\n      <td>1970</td>\n      <td>1970</td>\n      <td>0.0</td>\n      <td>546.0</td>\n      <td>0.0</td>\n      <td>0.0</td>\n      <td>0.0</td>\n      <td>...</td>\n      <td>1.0</td>\n      <td>0.0</td>\n      <td>0.0</td>\n      <td>0.0</td>\n      <td>0.0</td>\n      <td>0.0</td>\n      <td>0.0</td>\n      <td>0.0</td>\n      <td>0.0</td>\n      <td>0.0</td>\n    </tr>\n    <tr>\n      <th>2917</th>\n      <td>85</td>\n      <td>10441</td>\n      <td>5</td>\n      <td>1992</td>\n      <td>1992</td>\n      <td>0.0</td>\n      <td>912.0</td>\n      <td>0.0</td>\n      <td>0.0</td>\n      <td>0.0</td>\n      <td>...</td>\n      <td>0.0</td>\n      <td>1.0</td>\n      <td>0.0</td>\n      <td>0.0</td>\n      <td>0.0</td>\n      <td>0.0</td>\n      <td>0.0</td>\n      <td>0.0</td>\n      <td>0.0</td>\n      <td>0.0</td>\n    </tr>\n    <tr>\n      <th>2918</th>\n      <td>60</td>\n      <td>9627</td>\n      <td>5</td>\n      <td>1993</td>\n      <td>1994</td>\n      <td>0.0</td>\n      <td>996.0</td>\n      <td>0.0</td>\n      <td>0.0</td>\n      <td>0.0</td>\n      <td>...</td>\n      <td>0.0</td>\n      <td>1.0</td>\n      <td>0.0</td>\n      <td>0.0</td>\n      <td>0.0</td>\n      <td>0.0</td>\n      <td>0.0</td>\n      <td>0.0</td>\n      <td>0.0</td>\n      <td>0.0</td>\n    </tr>\n  </tbody>\n</table>\n<p>2791 rows × 38 columns</p>\n</div>"
          },
          "metadata": {}
        }
      ],
      "execution_count": 99
    },
    {
      "cell_type": "code",
      "source": "y",
      "metadata": {
        "trusted": true
      },
      "outputs": [
        {
          "execution_count": 100,
          "output_type": "execute_result",
          "data": {
            "text/plain": "0       208500.0\n1       181500.0\n2       223500.0\n3       140000.0\n4       250000.0\n          ...   \n2913    180921.0\n2914    180921.0\n2915    180921.0\n2917    180921.0\n2918    180921.0\nName: SalePrice, Length: 2791, dtype: float64"
          },
          "metadata": {}
        }
      ],
      "execution_count": 100
    },
    {
      "cell_type": "code",
      "source": "from sklearn.preprocessing import StandardScaler\nscaler = StandardScaler()\nscaler.fit(X)\n",
      "metadata": {
        "trusted": true
      },
      "outputs": [
        {
          "execution_count": 171,
          "output_type": "execute_result",
          "data": {
            "text/plain": "StandardScaler()",
            "text/html": "<style>#sk-container-id-8 {\n  /* Definition of color scheme common for light and dark mode */\n  --sklearn-color-text: black;\n  --sklearn-color-line: gray;\n  /* Definition of color scheme for unfitted estimators */\n  --sklearn-color-unfitted-level-0: #fff5e6;\n  --sklearn-color-unfitted-level-1: #f6e4d2;\n  --sklearn-color-unfitted-level-2: #ffe0b3;\n  --sklearn-color-unfitted-level-3: chocolate;\n  /* Definition of color scheme for fitted estimators */\n  --sklearn-color-fitted-level-0: #f0f8ff;\n  --sklearn-color-fitted-level-1: #d4ebff;\n  --sklearn-color-fitted-level-2: #b3dbfd;\n  --sklearn-color-fitted-level-3: cornflowerblue;\n\n  /* Specific color for light theme */\n  --sklearn-color-text-on-default-background: var(--sg-text-color, var(--theme-code-foreground, var(--jp-content-font-color1, black)));\n  --sklearn-color-background: var(--sg-background-color, var(--theme-background, var(--jp-layout-color0, white)));\n  --sklearn-color-border-box: var(--sg-text-color, var(--theme-code-foreground, var(--jp-content-font-color1, black)));\n  --sklearn-color-icon: #696969;\n\n  @media (prefers-color-scheme: dark) {\n    /* Redefinition of color scheme for dark theme */\n    --sklearn-color-text-on-default-background: var(--sg-text-color, var(--theme-code-foreground, var(--jp-content-font-color1, white)));\n    --sklearn-color-background: var(--sg-background-color, var(--theme-background, var(--jp-layout-color0, #111)));\n    --sklearn-color-border-box: var(--sg-text-color, var(--theme-code-foreground, var(--jp-content-font-color1, white)));\n    --sklearn-color-icon: #878787;\n  }\n}\n\n#sk-container-id-8 {\n  color: var(--sklearn-color-text);\n}\n\n#sk-container-id-8 pre {\n  padding: 0;\n}\n\n#sk-container-id-8 input.sk-hidden--visually {\n  border: 0;\n  clip: rect(1px 1px 1px 1px);\n  clip: rect(1px, 1px, 1px, 1px);\n  height: 1px;\n  margin: -1px;\n  overflow: hidden;\n  padding: 0;\n  position: absolute;\n  width: 1px;\n}\n\n#sk-container-id-8 div.sk-dashed-wrapped {\n  border: 1px dashed var(--sklearn-color-line);\n  margin: 0 0.4em 0.5em 0.4em;\n  box-sizing: border-box;\n  padding-bottom: 0.4em;\n  background-color: var(--sklearn-color-background);\n}\n\n#sk-container-id-8 div.sk-container {\n  /* jupyter's `normalize.less` sets `[hidden] { display: none; }`\n     but bootstrap.min.css set `[hidden] { display: none !important; }`\n     so we also need the `!important` here to be able to override the\n     default hidden behavior on the sphinx rendered scikit-learn.org.\n     See: https://github.com/scikit-learn/scikit-learn/issues/21755 */\n  display: inline-block !important;\n  position: relative;\n}\n\n#sk-container-id-8 div.sk-text-repr-fallback {\n  display: none;\n}\n\ndiv.sk-parallel-item,\ndiv.sk-serial,\ndiv.sk-item {\n  /* draw centered vertical line to link estimators */\n  background-image: linear-gradient(var(--sklearn-color-text-on-default-background), var(--sklearn-color-text-on-default-background));\n  background-size: 2px 100%;\n  background-repeat: no-repeat;\n  background-position: center center;\n}\n\n/* Parallel-specific style estimator block */\n\n#sk-container-id-8 div.sk-parallel-item::after {\n  content: \"\";\n  width: 100%;\n  border-bottom: 2px solid var(--sklearn-color-text-on-default-background);\n  flex-grow: 1;\n}\n\n#sk-container-id-8 div.sk-parallel {\n  display: flex;\n  align-items: stretch;\n  justify-content: center;\n  background-color: var(--sklearn-color-background);\n  position: relative;\n}\n\n#sk-container-id-8 div.sk-parallel-item {\n  display: flex;\n  flex-direction: column;\n}\n\n#sk-container-id-8 div.sk-parallel-item:first-child::after {\n  align-self: flex-end;\n  width: 50%;\n}\n\n#sk-container-id-8 div.sk-parallel-item:last-child::after {\n  align-self: flex-start;\n  width: 50%;\n}\n\n#sk-container-id-8 div.sk-parallel-item:only-child::after {\n  width: 0;\n}\n\n/* Serial-specific style estimator block */\n\n#sk-container-id-8 div.sk-serial {\n  display: flex;\n  flex-direction: column;\n  align-items: center;\n  background-color: var(--sklearn-color-background);\n  padding-right: 1em;\n  padding-left: 1em;\n}\n\n\n/* Toggleable style: style used for estimator/Pipeline/ColumnTransformer box that is\nclickable and can be expanded/collapsed.\n- Pipeline and ColumnTransformer use this feature and define the default style\n- Estimators will overwrite some part of the style using the `sk-estimator` class\n*/\n\n/* Pipeline and ColumnTransformer style (default) */\n\n#sk-container-id-8 div.sk-toggleable {\n  /* Default theme specific background. It is overwritten whether we have a\n  specific estimator or a Pipeline/ColumnTransformer */\n  background-color: var(--sklearn-color-background);\n}\n\n/* Toggleable label */\n#sk-container-id-8 label.sk-toggleable__label {\n  cursor: pointer;\n  display: block;\n  width: 100%;\n  margin-bottom: 0;\n  padding: 0.5em;\n  box-sizing: border-box;\n  text-align: center;\n}\n\n#sk-container-id-8 label.sk-toggleable__label-arrow:before {\n  /* Arrow on the left of the label */\n  content: \"▸\";\n  float: left;\n  margin-right: 0.25em;\n  color: var(--sklearn-color-icon);\n}\n\n#sk-container-id-8 label.sk-toggleable__label-arrow:hover:before {\n  color: var(--sklearn-color-text);\n}\n\n/* Toggleable content - dropdown */\n\n#sk-container-id-8 div.sk-toggleable__content {\n  max-height: 0;\n  max-width: 0;\n  overflow: hidden;\n  text-align: left;\n  /* unfitted */\n  background-color: var(--sklearn-color-unfitted-level-0);\n}\n\n#sk-container-id-8 div.sk-toggleable__content.fitted {\n  /* fitted */\n  background-color: var(--sklearn-color-fitted-level-0);\n}\n\n#sk-container-id-8 div.sk-toggleable__content pre {\n  margin: 0.2em;\n  border-radius: 0.25em;\n  color: var(--sklearn-color-text);\n  /* unfitted */\n  background-color: var(--sklearn-color-unfitted-level-0);\n}\n\n#sk-container-id-8 div.sk-toggleable__content.fitted pre {\n  /* unfitted */\n  background-color: var(--sklearn-color-fitted-level-0);\n}\n\n#sk-container-id-8 input.sk-toggleable__control:checked~div.sk-toggleable__content {\n  /* Expand drop-down */\n  max-height: 200px;\n  max-width: 100%;\n  overflow: auto;\n}\n\n#sk-container-id-8 input.sk-toggleable__control:checked~label.sk-toggleable__label-arrow:before {\n  content: \"▾\";\n}\n\n/* Pipeline/ColumnTransformer-specific style */\n\n#sk-container-id-8 div.sk-label input.sk-toggleable__control:checked~label.sk-toggleable__label {\n  color: var(--sklearn-color-text);\n  background-color: var(--sklearn-color-unfitted-level-2);\n}\n\n#sk-container-id-8 div.sk-label.fitted input.sk-toggleable__control:checked~label.sk-toggleable__label {\n  background-color: var(--sklearn-color-fitted-level-2);\n}\n\n/* Estimator-specific style */\n\n/* Colorize estimator box */\n#sk-container-id-8 div.sk-estimator input.sk-toggleable__control:checked~label.sk-toggleable__label {\n  /* unfitted */\n  background-color: var(--sklearn-color-unfitted-level-2);\n}\n\n#sk-container-id-8 div.sk-estimator.fitted input.sk-toggleable__control:checked~label.sk-toggleable__label {\n  /* fitted */\n  background-color: var(--sklearn-color-fitted-level-2);\n}\n\n#sk-container-id-8 div.sk-label label.sk-toggleable__label,\n#sk-container-id-8 div.sk-label label {\n  /* The background is the default theme color */\n  color: var(--sklearn-color-text-on-default-background);\n}\n\n/* On hover, darken the color of the background */\n#sk-container-id-8 div.sk-label:hover label.sk-toggleable__label {\n  color: var(--sklearn-color-text);\n  background-color: var(--sklearn-color-unfitted-level-2);\n}\n\n/* Label box, darken color on hover, fitted */\n#sk-container-id-8 div.sk-label.fitted:hover label.sk-toggleable__label.fitted {\n  color: var(--sklearn-color-text);\n  background-color: var(--sklearn-color-fitted-level-2);\n}\n\n/* Estimator label */\n\n#sk-container-id-8 div.sk-label label {\n  font-family: monospace;\n  font-weight: bold;\n  display: inline-block;\n  line-height: 1.2em;\n}\n\n#sk-container-id-8 div.sk-label-container {\n  text-align: center;\n}\n\n/* Estimator-specific */\n#sk-container-id-8 div.sk-estimator {\n  font-family: monospace;\n  border: 1px dotted var(--sklearn-color-border-box);\n  border-radius: 0.25em;\n  box-sizing: border-box;\n  margin-bottom: 0.5em;\n  /* unfitted */\n  background-color: var(--sklearn-color-unfitted-level-0);\n}\n\n#sk-container-id-8 div.sk-estimator.fitted {\n  /* fitted */\n  background-color: var(--sklearn-color-fitted-level-0);\n}\n\n/* on hover */\n#sk-container-id-8 div.sk-estimator:hover {\n  /* unfitted */\n  background-color: var(--sklearn-color-unfitted-level-2);\n}\n\n#sk-container-id-8 div.sk-estimator.fitted:hover {\n  /* fitted */\n  background-color: var(--sklearn-color-fitted-level-2);\n}\n\n/* Specification for estimator info (e.g. \"i\" and \"?\") */\n\n/* Common style for \"i\" and \"?\" */\n\n.sk-estimator-doc-link,\na:link.sk-estimator-doc-link,\na:visited.sk-estimator-doc-link {\n  float: right;\n  font-size: smaller;\n  line-height: 1em;\n  font-family: monospace;\n  background-color: var(--sklearn-color-background);\n  border-radius: 1em;\n  height: 1em;\n  width: 1em;\n  text-decoration: none !important;\n  margin-left: 1ex;\n  /* unfitted */\n  border: var(--sklearn-color-unfitted-level-1) 1pt solid;\n  color: var(--sklearn-color-unfitted-level-1);\n}\n\n.sk-estimator-doc-link.fitted,\na:link.sk-estimator-doc-link.fitted,\na:visited.sk-estimator-doc-link.fitted {\n  /* fitted */\n  border: var(--sklearn-color-fitted-level-1) 1pt solid;\n  color: var(--sklearn-color-fitted-level-1);\n}\n\n/* On hover */\ndiv.sk-estimator:hover .sk-estimator-doc-link:hover,\n.sk-estimator-doc-link:hover,\ndiv.sk-label-container:hover .sk-estimator-doc-link:hover,\n.sk-estimator-doc-link:hover {\n  /* unfitted */\n  background-color: var(--sklearn-color-unfitted-level-3);\n  color: var(--sklearn-color-background);\n  text-decoration: none;\n}\n\ndiv.sk-estimator.fitted:hover .sk-estimator-doc-link.fitted:hover,\n.sk-estimator-doc-link.fitted:hover,\ndiv.sk-label-container:hover .sk-estimator-doc-link.fitted:hover,\n.sk-estimator-doc-link.fitted:hover {\n  /* fitted */\n  background-color: var(--sklearn-color-fitted-level-3);\n  color: var(--sklearn-color-background);\n  text-decoration: none;\n}\n\n/* Span, style for the box shown on hovering the info icon */\n.sk-estimator-doc-link span {\n  display: none;\n  z-index: 9999;\n  position: relative;\n  font-weight: normal;\n  right: .2ex;\n  padding: .5ex;\n  margin: .5ex;\n  width: min-content;\n  min-width: 20ex;\n  max-width: 50ex;\n  color: var(--sklearn-color-text);\n  box-shadow: 2pt 2pt 4pt #999;\n  /* unfitted */\n  background: var(--sklearn-color-unfitted-level-0);\n  border: .5pt solid var(--sklearn-color-unfitted-level-3);\n}\n\n.sk-estimator-doc-link.fitted span {\n  /* fitted */\n  background: var(--sklearn-color-fitted-level-0);\n  border: var(--sklearn-color-fitted-level-3);\n}\n\n.sk-estimator-doc-link:hover span {\n  display: block;\n}\n\n/* \"?\"-specific style due to the `<a>` HTML tag */\n\n#sk-container-id-8 a.estimator_doc_link {\n  float: right;\n  font-size: 1rem;\n  line-height: 1em;\n  font-family: monospace;\n  background-color: var(--sklearn-color-background);\n  border-radius: 1rem;\n  height: 1rem;\n  width: 1rem;\n  text-decoration: none;\n  /* unfitted */\n  color: var(--sklearn-color-unfitted-level-1);\n  border: var(--sklearn-color-unfitted-level-1) 1pt solid;\n}\n\n#sk-container-id-8 a.estimator_doc_link.fitted {\n  /* fitted */\n  border: var(--sklearn-color-fitted-level-1) 1pt solid;\n  color: var(--sklearn-color-fitted-level-1);\n}\n\n/* On hover */\n#sk-container-id-8 a.estimator_doc_link:hover {\n  /* unfitted */\n  background-color: var(--sklearn-color-unfitted-level-3);\n  color: var(--sklearn-color-background);\n  text-decoration: none;\n}\n\n#sk-container-id-8 a.estimator_doc_link.fitted:hover {\n  /* fitted */\n  background-color: var(--sklearn-color-fitted-level-3);\n}\n</style><div id=\"sk-container-id-8\" class=\"sk-top-container\"><div class=\"sk-text-repr-fallback\"><pre>StandardScaler()</pre><b>In a Jupyter environment, please rerun this cell to show the HTML representation or trust the notebook. <br />On GitHub, the HTML representation is unable to render, please try loading this page with nbviewer.org.</b></div><div class=\"sk-container\" hidden><div class=\"sk-item\"><div class=\"sk-estimator fitted sk-toggleable\"><input class=\"sk-toggleable__control sk-hidden--visually\" id=\"sk-estimator-id-8\" type=\"checkbox\" checked><label for=\"sk-estimator-id-8\" class=\"sk-toggleable__label fitted sk-toggleable__label-arrow fitted\">&nbsp;&nbsp;StandardScaler<a class=\"sk-estimator-doc-link fitted\" rel=\"noreferrer\" target=\"_blank\" href=\"https://scikit-learn.org/1.4/modules/generated/sklearn.preprocessing.StandardScaler.html\">?<span>Documentation for StandardScaler</span></a><span class=\"sk-estimator-doc-link fitted\">i<span>Fitted</span></span></label><div class=\"sk-toggleable__content fitted\"><pre>StandardScaler()</pre></div> </div></div></div></div>"
          },
          "metadata": {}
        }
      ],
      "execution_count": 171
    },
    {
      "cell_type": "code",
      "source": "X[:] = scaler.transform(X)",
      "metadata": {
        "trusted": true
      },
      "outputs": [],
      "execution_count": 172
    },
    {
      "cell_type": "code",
      "source": "X",
      "metadata": {
        "trusted": true
      },
      "outputs": [
        {
          "execution_count": 173,
          "output_type": "execute_result",
          "data": {
            "text/plain": "      MSSubClass   LotArea  OverallCond  YearBuilt  YearRemodAdd  BsmtFinSF2  \\\n0       0.055987 -0.234681    -0.517326   1.033363      0.888134   -0.289224   \n1      -0.881813  0.120684     2.200098   0.144869     -0.402475   -0.289224   \n2       0.055987  0.630556    -0.517326   0.967548      0.840334   -0.289224   \n3       0.290437  0.105233    -0.517326  -1.862468     -0.689277   -0.289224   \n4       0.055987  1.560687    -0.517326   0.934641      0.744733   -0.289224   \n...          ...       ...          ...        ...           ...         ...   \n2913    2.400488 -2.374290    -0.517326  -0.052574     -0.689277   -0.289224   \n2914    2.400488 -2.247595     1.294290  -0.052574     -0.689277   -0.289224   \n2915    2.400488 -2.260573    -0.517326  -0.052574     -0.689277   -0.289224   \n2917    0.642113  0.380564    -0.517326   0.671384      0.362330   -0.289224   \n2918    0.055987  0.129027    -0.517326   0.704291      0.457931   -0.289224   \n\n      TotalBsmtSF  MSZoning_0  MSZoning_C (all)  MSZoning_FV  ...  \\\n0       -0.440399   -0.018932         -0.093132    -0.228939  ...   \n1        0.538748   -0.018932         -0.093132    -0.228939  ...   \n2       -0.286050   -0.018932         -0.093132    -0.228939  ...   \n3       -0.681568   -0.018932         -0.093132    -0.228939  ...   \n4        0.256580   -0.018932         -0.093132    -0.228939  ...   \n...           ...         ...               ...          ...  ...   \n2913    -1.188023   -0.018932         -0.093132    -0.228939  ...   \n2914    -1.188023   -0.018932         -0.093132    -0.228939  ...   \n2915    -1.188023   -0.018932         -0.093132    -0.228939  ...   \n2917    -0.305344   -0.018932         -0.093132    -0.228939  ...   \n2918    -0.102762   -0.018932         -0.093132    -0.228939  ...   \n\n      Exterior1st_CemntBd  Exterior1st_HdBoard  Exterior1st_ImStucc  \\\n0               -0.211960            -0.422060            -0.018932   \n1               -0.211960            -0.422060            -0.018932   \n2               -0.211960            -0.422060            -0.018932   \n3               -0.211960            -0.422060            -0.018932   \n4               -0.211960            -0.422060            -0.018932   \n...                   ...                  ...                  ...   \n2913             4.717874            -0.422060            -0.018932   \n2914             4.717874            -0.422060            -0.018932   \n2915             4.717874            -0.422060            -0.018932   \n2917            -0.211960             2.369334            -0.018932   \n2918            -0.211960             2.369334            -0.018932   \n\n      Exterior1st_MetalSd  Exterior1st_Plywood  Exterior1st_Stone  \\\n0               -0.430861            -0.274827          -0.026779   \n1                2.320933            -0.274827          -0.026779   \n2               -0.430861            -0.274827          -0.026779   \n3               -0.430861            -0.274827          -0.026779   \n4               -0.430861            -0.274827          -0.026779   \n...                   ...                  ...                ...   \n2913            -0.430861            -0.274827          -0.026779   \n2914            -0.430861            -0.274827          -0.026779   \n2915            -0.430861            -0.274827          -0.026779   \n2917            -0.430861            -0.274827          -0.026779   \n2918            -0.430861            -0.274827          -0.026779   \n\n      Exterior1st_Stucco  Exterior1st_VinylSd  Exterior1st_Wd Sdng  \\\n0              -0.122103             1.327918            -0.396398   \n1              -0.122103            -0.753059            -0.396398   \n2              -0.122103             1.327918            -0.396398   \n3              -0.122103            -0.753059             2.522720   \n4              -0.122103             1.327918            -0.396398   \n...                  ...                  ...                  ...   \n2913           -0.122103            -0.753059            -0.396398   \n2914           -0.122103            -0.753059            -0.396398   \n2915           -0.122103            -0.753059            -0.396398   \n2917           -0.122103            -0.753059            -0.396398   \n2918           -0.122103            -0.753059            -0.396398   \n\n      Exterior1st_WdShing  \n0                -0.13913  \n1                -0.13913  \n2                -0.13913  \n3                -0.13913  \n4                -0.13913  \n...                   ...  \n2913             -0.13913  \n2914             -0.13913  \n2915             -0.13913  \n2917             -0.13913  \n2918             -0.13913  \n\n[2791 rows x 38 columns]",
            "text/html": "<div>\n<style scoped>\n    .dataframe tbody tr th:only-of-type {\n        vertical-align: middle;\n    }\n\n    .dataframe tbody tr th {\n        vertical-align: top;\n    }\n\n    .dataframe thead th {\n        text-align: right;\n    }\n</style>\n<table border=\"1\" class=\"dataframe\">\n  <thead>\n    <tr style=\"text-align: right;\">\n      <th></th>\n      <th>MSSubClass</th>\n      <th>LotArea</th>\n      <th>OverallCond</th>\n      <th>YearBuilt</th>\n      <th>YearRemodAdd</th>\n      <th>BsmtFinSF2</th>\n      <th>TotalBsmtSF</th>\n      <th>MSZoning_0</th>\n      <th>MSZoning_C (all)</th>\n      <th>MSZoning_FV</th>\n      <th>...</th>\n      <th>Exterior1st_CemntBd</th>\n      <th>Exterior1st_HdBoard</th>\n      <th>Exterior1st_ImStucc</th>\n      <th>Exterior1st_MetalSd</th>\n      <th>Exterior1st_Plywood</th>\n      <th>Exterior1st_Stone</th>\n      <th>Exterior1st_Stucco</th>\n      <th>Exterior1st_VinylSd</th>\n      <th>Exterior1st_Wd Sdng</th>\n      <th>Exterior1st_WdShing</th>\n    </tr>\n  </thead>\n  <tbody>\n    <tr>\n      <th>0</th>\n      <td>0.055987</td>\n      <td>-0.234681</td>\n      <td>-0.517326</td>\n      <td>1.033363</td>\n      <td>0.888134</td>\n      <td>-0.289224</td>\n      <td>-0.440399</td>\n      <td>-0.018932</td>\n      <td>-0.093132</td>\n      <td>-0.228939</td>\n      <td>...</td>\n      <td>-0.211960</td>\n      <td>-0.422060</td>\n      <td>-0.018932</td>\n      <td>-0.430861</td>\n      <td>-0.274827</td>\n      <td>-0.026779</td>\n      <td>-0.122103</td>\n      <td>1.327918</td>\n      <td>-0.396398</td>\n      <td>-0.13913</td>\n    </tr>\n    <tr>\n      <th>1</th>\n      <td>-0.881813</td>\n      <td>0.120684</td>\n      <td>2.200098</td>\n      <td>0.144869</td>\n      <td>-0.402475</td>\n      <td>-0.289224</td>\n      <td>0.538748</td>\n      <td>-0.018932</td>\n      <td>-0.093132</td>\n      <td>-0.228939</td>\n      <td>...</td>\n      <td>-0.211960</td>\n      <td>-0.422060</td>\n      <td>-0.018932</td>\n      <td>2.320933</td>\n      <td>-0.274827</td>\n      <td>-0.026779</td>\n      <td>-0.122103</td>\n      <td>-0.753059</td>\n      <td>-0.396398</td>\n      <td>-0.13913</td>\n    </tr>\n    <tr>\n      <th>2</th>\n      <td>0.055987</td>\n      <td>0.630556</td>\n      <td>-0.517326</td>\n      <td>0.967548</td>\n      <td>0.840334</td>\n      <td>-0.289224</td>\n      <td>-0.286050</td>\n      <td>-0.018932</td>\n      <td>-0.093132</td>\n      <td>-0.228939</td>\n      <td>...</td>\n      <td>-0.211960</td>\n      <td>-0.422060</td>\n      <td>-0.018932</td>\n      <td>-0.430861</td>\n      <td>-0.274827</td>\n      <td>-0.026779</td>\n      <td>-0.122103</td>\n      <td>1.327918</td>\n      <td>-0.396398</td>\n      <td>-0.13913</td>\n    </tr>\n    <tr>\n      <th>3</th>\n      <td>0.290437</td>\n      <td>0.105233</td>\n      <td>-0.517326</td>\n      <td>-1.862468</td>\n      <td>-0.689277</td>\n      <td>-0.289224</td>\n      <td>-0.681568</td>\n      <td>-0.018932</td>\n      <td>-0.093132</td>\n      <td>-0.228939</td>\n      <td>...</td>\n      <td>-0.211960</td>\n      <td>-0.422060</td>\n      <td>-0.018932</td>\n      <td>-0.430861</td>\n      <td>-0.274827</td>\n      <td>-0.026779</td>\n      <td>-0.122103</td>\n      <td>-0.753059</td>\n      <td>2.522720</td>\n      <td>-0.13913</td>\n    </tr>\n    <tr>\n      <th>4</th>\n      <td>0.055987</td>\n      <td>1.560687</td>\n      <td>-0.517326</td>\n      <td>0.934641</td>\n      <td>0.744733</td>\n      <td>-0.289224</td>\n      <td>0.256580</td>\n      <td>-0.018932</td>\n      <td>-0.093132</td>\n      <td>-0.228939</td>\n      <td>...</td>\n      <td>-0.211960</td>\n      <td>-0.422060</td>\n      <td>-0.018932</td>\n      <td>-0.430861</td>\n      <td>-0.274827</td>\n      <td>-0.026779</td>\n      <td>-0.122103</td>\n      <td>1.327918</td>\n      <td>-0.396398</td>\n      <td>-0.13913</td>\n    </tr>\n    <tr>\n      <th>...</th>\n      <td>...</td>\n      <td>...</td>\n      <td>...</td>\n      <td>...</td>\n      <td>...</td>\n      <td>...</td>\n      <td>...</td>\n      <td>...</td>\n      <td>...</td>\n      <td>...</td>\n      <td>...</td>\n      <td>...</td>\n      <td>...</td>\n      <td>...</td>\n      <td>...</td>\n      <td>...</td>\n      <td>...</td>\n      <td>...</td>\n      <td>...</td>\n      <td>...</td>\n      <td>...</td>\n    </tr>\n    <tr>\n      <th>2913</th>\n      <td>2.400488</td>\n      <td>-2.374290</td>\n      <td>-0.517326</td>\n      <td>-0.052574</td>\n      <td>-0.689277</td>\n      <td>-0.289224</td>\n      <td>-1.188023</td>\n      <td>-0.018932</td>\n      <td>-0.093132</td>\n      <td>-0.228939</td>\n      <td>...</td>\n      <td>4.717874</td>\n      <td>-0.422060</td>\n      <td>-0.018932</td>\n      <td>-0.430861</td>\n      <td>-0.274827</td>\n      <td>-0.026779</td>\n      <td>-0.122103</td>\n      <td>-0.753059</td>\n      <td>-0.396398</td>\n      <td>-0.13913</td>\n    </tr>\n    <tr>\n      <th>2914</th>\n      <td>2.400488</td>\n      <td>-2.247595</td>\n      <td>1.294290</td>\n      <td>-0.052574</td>\n      <td>-0.689277</td>\n      <td>-0.289224</td>\n      <td>-1.188023</td>\n      <td>-0.018932</td>\n      <td>-0.093132</td>\n      <td>-0.228939</td>\n      <td>...</td>\n      <td>4.717874</td>\n      <td>-0.422060</td>\n      <td>-0.018932</td>\n      <td>-0.430861</td>\n      <td>-0.274827</td>\n      <td>-0.026779</td>\n      <td>-0.122103</td>\n      <td>-0.753059</td>\n      <td>-0.396398</td>\n      <td>-0.13913</td>\n    </tr>\n    <tr>\n      <th>2915</th>\n      <td>2.400488</td>\n      <td>-2.260573</td>\n      <td>-0.517326</td>\n      <td>-0.052574</td>\n      <td>-0.689277</td>\n      <td>-0.289224</td>\n      <td>-1.188023</td>\n      <td>-0.018932</td>\n      <td>-0.093132</td>\n      <td>-0.228939</td>\n      <td>...</td>\n      <td>4.717874</td>\n      <td>-0.422060</td>\n      <td>-0.018932</td>\n      <td>-0.430861</td>\n      <td>-0.274827</td>\n      <td>-0.026779</td>\n      <td>-0.122103</td>\n      <td>-0.753059</td>\n      <td>-0.396398</td>\n      <td>-0.13913</td>\n    </tr>\n    <tr>\n      <th>2917</th>\n      <td>0.642113</td>\n      <td>0.380564</td>\n      <td>-0.517326</td>\n      <td>0.671384</td>\n      <td>0.362330</td>\n      <td>-0.289224</td>\n      <td>-0.305344</td>\n      <td>-0.018932</td>\n      <td>-0.093132</td>\n      <td>-0.228939</td>\n      <td>...</td>\n      <td>-0.211960</td>\n      <td>2.369334</td>\n      <td>-0.018932</td>\n      <td>-0.430861</td>\n      <td>-0.274827</td>\n      <td>-0.026779</td>\n      <td>-0.122103</td>\n      <td>-0.753059</td>\n      <td>-0.396398</td>\n      <td>-0.13913</td>\n    </tr>\n    <tr>\n      <th>2918</th>\n      <td>0.055987</td>\n      <td>0.129027</td>\n      <td>-0.517326</td>\n      <td>0.704291</td>\n      <td>0.457931</td>\n      <td>-0.289224</td>\n      <td>-0.102762</td>\n      <td>-0.018932</td>\n      <td>-0.093132</td>\n      <td>-0.228939</td>\n      <td>...</td>\n      <td>-0.211960</td>\n      <td>2.369334</td>\n      <td>-0.018932</td>\n      <td>-0.430861</td>\n      <td>-0.274827</td>\n      <td>-0.026779</td>\n      <td>-0.122103</td>\n      <td>-0.753059</td>\n      <td>-0.396398</td>\n      <td>-0.13913</td>\n    </tr>\n  </tbody>\n</table>\n<p>2791 rows × 38 columns</p>\n</div>"
          },
          "metadata": {}
        }
      ],
      "execution_count": 173
    },
    {
      "cell_type": "code",
      "source": "from sklearn.model_selection import train_test_split\n\n# Assuming `X` contains the features and `y` contains the target variable\nX_train, X_test, y_train, y_test = train_test_split(X, y, test_size=0.2, random_state=42)\n",
      "metadata": {
        "trusted": true
      },
      "outputs": [],
      "execution_count": 174
    },
    {
      "cell_type": "code",
      "source": "X_train.shape, X_test.shape, y_train.shape, y_test.shape",
      "metadata": {
        "trusted": true
      },
      "outputs": [
        {
          "execution_count": 175,
          "output_type": "execute_result",
          "data": {
            "text/plain": "((2232, 38), (559, 38), (2232,), (559,))"
          },
          "metadata": {}
        }
      ],
      "execution_count": 175
    },
    {
      "cell_type": "code",
      "source": "from sklearn.linear_model import LinearRegression\n\nmodel = LinearRegression()\nmodel.fit(X_train, y_train)",
      "metadata": {
        "trusted": true
      },
      "outputs": [
        {
          "execution_count": 176,
          "output_type": "execute_result",
          "data": {
            "text/plain": "LinearRegression()",
            "text/html": "<style>#sk-container-id-9 {\n  /* Definition of color scheme common for light and dark mode */\n  --sklearn-color-text: black;\n  --sklearn-color-line: gray;\n  /* Definition of color scheme for unfitted estimators */\n  --sklearn-color-unfitted-level-0: #fff5e6;\n  --sklearn-color-unfitted-level-1: #f6e4d2;\n  --sklearn-color-unfitted-level-2: #ffe0b3;\n  --sklearn-color-unfitted-level-3: chocolate;\n  /* Definition of color scheme for fitted estimators */\n  --sklearn-color-fitted-level-0: #f0f8ff;\n  --sklearn-color-fitted-level-1: #d4ebff;\n  --sklearn-color-fitted-level-2: #b3dbfd;\n  --sklearn-color-fitted-level-3: cornflowerblue;\n\n  /* Specific color for light theme */\n  --sklearn-color-text-on-default-background: var(--sg-text-color, var(--theme-code-foreground, var(--jp-content-font-color1, black)));\n  --sklearn-color-background: var(--sg-background-color, var(--theme-background, var(--jp-layout-color0, white)));\n  --sklearn-color-border-box: var(--sg-text-color, var(--theme-code-foreground, var(--jp-content-font-color1, black)));\n  --sklearn-color-icon: #696969;\n\n  @media (prefers-color-scheme: dark) {\n    /* Redefinition of color scheme for dark theme */\n    --sklearn-color-text-on-default-background: var(--sg-text-color, var(--theme-code-foreground, var(--jp-content-font-color1, white)));\n    --sklearn-color-background: var(--sg-background-color, var(--theme-background, var(--jp-layout-color0, #111)));\n    --sklearn-color-border-box: var(--sg-text-color, var(--theme-code-foreground, var(--jp-content-font-color1, white)));\n    --sklearn-color-icon: #878787;\n  }\n}\n\n#sk-container-id-9 {\n  color: var(--sklearn-color-text);\n}\n\n#sk-container-id-9 pre {\n  padding: 0;\n}\n\n#sk-container-id-9 input.sk-hidden--visually {\n  border: 0;\n  clip: rect(1px 1px 1px 1px);\n  clip: rect(1px, 1px, 1px, 1px);\n  height: 1px;\n  margin: -1px;\n  overflow: hidden;\n  padding: 0;\n  position: absolute;\n  width: 1px;\n}\n\n#sk-container-id-9 div.sk-dashed-wrapped {\n  border: 1px dashed var(--sklearn-color-line);\n  margin: 0 0.4em 0.5em 0.4em;\n  box-sizing: border-box;\n  padding-bottom: 0.4em;\n  background-color: var(--sklearn-color-background);\n}\n\n#sk-container-id-9 div.sk-container {\n  /* jupyter's `normalize.less` sets `[hidden] { display: none; }`\n     but bootstrap.min.css set `[hidden] { display: none !important; }`\n     so we also need the `!important` here to be able to override the\n     default hidden behavior on the sphinx rendered scikit-learn.org.\n     See: https://github.com/scikit-learn/scikit-learn/issues/21755 */\n  display: inline-block !important;\n  position: relative;\n}\n\n#sk-container-id-9 div.sk-text-repr-fallback {\n  display: none;\n}\n\ndiv.sk-parallel-item,\ndiv.sk-serial,\ndiv.sk-item {\n  /* draw centered vertical line to link estimators */\n  background-image: linear-gradient(var(--sklearn-color-text-on-default-background), var(--sklearn-color-text-on-default-background));\n  background-size: 2px 100%;\n  background-repeat: no-repeat;\n  background-position: center center;\n}\n\n/* Parallel-specific style estimator block */\n\n#sk-container-id-9 div.sk-parallel-item::after {\n  content: \"\";\n  width: 100%;\n  border-bottom: 2px solid var(--sklearn-color-text-on-default-background);\n  flex-grow: 1;\n}\n\n#sk-container-id-9 div.sk-parallel {\n  display: flex;\n  align-items: stretch;\n  justify-content: center;\n  background-color: var(--sklearn-color-background);\n  position: relative;\n}\n\n#sk-container-id-9 div.sk-parallel-item {\n  display: flex;\n  flex-direction: column;\n}\n\n#sk-container-id-9 div.sk-parallel-item:first-child::after {\n  align-self: flex-end;\n  width: 50%;\n}\n\n#sk-container-id-9 div.sk-parallel-item:last-child::after {\n  align-self: flex-start;\n  width: 50%;\n}\n\n#sk-container-id-9 div.sk-parallel-item:only-child::after {\n  width: 0;\n}\n\n/* Serial-specific style estimator block */\n\n#sk-container-id-9 div.sk-serial {\n  display: flex;\n  flex-direction: column;\n  align-items: center;\n  background-color: var(--sklearn-color-background);\n  padding-right: 1em;\n  padding-left: 1em;\n}\n\n\n/* Toggleable style: style used for estimator/Pipeline/ColumnTransformer box that is\nclickable and can be expanded/collapsed.\n- Pipeline and ColumnTransformer use this feature and define the default style\n- Estimators will overwrite some part of the style using the `sk-estimator` class\n*/\n\n/* Pipeline and ColumnTransformer style (default) */\n\n#sk-container-id-9 div.sk-toggleable {\n  /* Default theme specific background. It is overwritten whether we have a\n  specific estimator or a Pipeline/ColumnTransformer */\n  background-color: var(--sklearn-color-background);\n}\n\n/* Toggleable label */\n#sk-container-id-9 label.sk-toggleable__label {\n  cursor: pointer;\n  display: block;\n  width: 100%;\n  margin-bottom: 0;\n  padding: 0.5em;\n  box-sizing: border-box;\n  text-align: center;\n}\n\n#sk-container-id-9 label.sk-toggleable__label-arrow:before {\n  /* Arrow on the left of the label */\n  content: \"▸\";\n  float: left;\n  margin-right: 0.25em;\n  color: var(--sklearn-color-icon);\n}\n\n#sk-container-id-9 label.sk-toggleable__label-arrow:hover:before {\n  color: var(--sklearn-color-text);\n}\n\n/* Toggleable content - dropdown */\n\n#sk-container-id-9 div.sk-toggleable__content {\n  max-height: 0;\n  max-width: 0;\n  overflow: hidden;\n  text-align: left;\n  /* unfitted */\n  background-color: var(--sklearn-color-unfitted-level-0);\n}\n\n#sk-container-id-9 div.sk-toggleable__content.fitted {\n  /* fitted */\n  background-color: var(--sklearn-color-fitted-level-0);\n}\n\n#sk-container-id-9 div.sk-toggleable__content pre {\n  margin: 0.2em;\n  border-radius: 0.25em;\n  color: var(--sklearn-color-text);\n  /* unfitted */\n  background-color: var(--sklearn-color-unfitted-level-0);\n}\n\n#sk-container-id-9 div.sk-toggleable__content.fitted pre {\n  /* unfitted */\n  background-color: var(--sklearn-color-fitted-level-0);\n}\n\n#sk-container-id-9 input.sk-toggleable__control:checked~div.sk-toggleable__content {\n  /* Expand drop-down */\n  max-height: 200px;\n  max-width: 100%;\n  overflow: auto;\n}\n\n#sk-container-id-9 input.sk-toggleable__control:checked~label.sk-toggleable__label-arrow:before {\n  content: \"▾\";\n}\n\n/* Pipeline/ColumnTransformer-specific style */\n\n#sk-container-id-9 div.sk-label input.sk-toggleable__control:checked~label.sk-toggleable__label {\n  color: var(--sklearn-color-text);\n  background-color: var(--sklearn-color-unfitted-level-2);\n}\n\n#sk-container-id-9 div.sk-label.fitted input.sk-toggleable__control:checked~label.sk-toggleable__label {\n  background-color: var(--sklearn-color-fitted-level-2);\n}\n\n/* Estimator-specific style */\n\n/* Colorize estimator box */\n#sk-container-id-9 div.sk-estimator input.sk-toggleable__control:checked~label.sk-toggleable__label {\n  /* unfitted */\n  background-color: var(--sklearn-color-unfitted-level-2);\n}\n\n#sk-container-id-9 div.sk-estimator.fitted input.sk-toggleable__control:checked~label.sk-toggleable__label {\n  /* fitted */\n  background-color: var(--sklearn-color-fitted-level-2);\n}\n\n#sk-container-id-9 div.sk-label label.sk-toggleable__label,\n#sk-container-id-9 div.sk-label label {\n  /* The background is the default theme color */\n  color: var(--sklearn-color-text-on-default-background);\n}\n\n/* On hover, darken the color of the background */\n#sk-container-id-9 div.sk-label:hover label.sk-toggleable__label {\n  color: var(--sklearn-color-text);\n  background-color: var(--sklearn-color-unfitted-level-2);\n}\n\n/* Label box, darken color on hover, fitted */\n#sk-container-id-9 div.sk-label.fitted:hover label.sk-toggleable__label.fitted {\n  color: var(--sklearn-color-text);\n  background-color: var(--sklearn-color-fitted-level-2);\n}\n\n/* Estimator label */\n\n#sk-container-id-9 div.sk-label label {\n  font-family: monospace;\n  font-weight: bold;\n  display: inline-block;\n  line-height: 1.2em;\n}\n\n#sk-container-id-9 div.sk-label-container {\n  text-align: center;\n}\n\n/* Estimator-specific */\n#sk-container-id-9 div.sk-estimator {\n  font-family: monospace;\n  border: 1px dotted var(--sklearn-color-border-box);\n  border-radius: 0.25em;\n  box-sizing: border-box;\n  margin-bottom: 0.5em;\n  /* unfitted */\n  background-color: var(--sklearn-color-unfitted-level-0);\n}\n\n#sk-container-id-9 div.sk-estimator.fitted {\n  /* fitted */\n  background-color: var(--sklearn-color-fitted-level-0);\n}\n\n/* on hover */\n#sk-container-id-9 div.sk-estimator:hover {\n  /* unfitted */\n  background-color: var(--sklearn-color-unfitted-level-2);\n}\n\n#sk-container-id-9 div.sk-estimator.fitted:hover {\n  /* fitted */\n  background-color: var(--sklearn-color-fitted-level-2);\n}\n\n/* Specification for estimator info (e.g. \"i\" and \"?\") */\n\n/* Common style for \"i\" and \"?\" */\n\n.sk-estimator-doc-link,\na:link.sk-estimator-doc-link,\na:visited.sk-estimator-doc-link {\n  float: right;\n  font-size: smaller;\n  line-height: 1em;\n  font-family: monospace;\n  background-color: var(--sklearn-color-background);\n  border-radius: 1em;\n  height: 1em;\n  width: 1em;\n  text-decoration: none !important;\n  margin-left: 1ex;\n  /* unfitted */\n  border: var(--sklearn-color-unfitted-level-1) 1pt solid;\n  color: var(--sklearn-color-unfitted-level-1);\n}\n\n.sk-estimator-doc-link.fitted,\na:link.sk-estimator-doc-link.fitted,\na:visited.sk-estimator-doc-link.fitted {\n  /* fitted */\n  border: var(--sklearn-color-fitted-level-1) 1pt solid;\n  color: var(--sklearn-color-fitted-level-1);\n}\n\n/* On hover */\ndiv.sk-estimator:hover .sk-estimator-doc-link:hover,\n.sk-estimator-doc-link:hover,\ndiv.sk-label-container:hover .sk-estimator-doc-link:hover,\n.sk-estimator-doc-link:hover {\n  /* unfitted */\n  background-color: var(--sklearn-color-unfitted-level-3);\n  color: var(--sklearn-color-background);\n  text-decoration: none;\n}\n\ndiv.sk-estimator.fitted:hover .sk-estimator-doc-link.fitted:hover,\n.sk-estimator-doc-link.fitted:hover,\ndiv.sk-label-container:hover .sk-estimator-doc-link.fitted:hover,\n.sk-estimator-doc-link.fitted:hover {\n  /* fitted */\n  background-color: var(--sklearn-color-fitted-level-3);\n  color: var(--sklearn-color-background);\n  text-decoration: none;\n}\n\n/* Span, style for the box shown on hovering the info icon */\n.sk-estimator-doc-link span {\n  display: none;\n  z-index: 9999;\n  position: relative;\n  font-weight: normal;\n  right: .2ex;\n  padding: .5ex;\n  margin: .5ex;\n  width: min-content;\n  min-width: 20ex;\n  max-width: 50ex;\n  color: var(--sklearn-color-text);\n  box-shadow: 2pt 2pt 4pt #999;\n  /* unfitted */\n  background: var(--sklearn-color-unfitted-level-0);\n  border: .5pt solid var(--sklearn-color-unfitted-level-3);\n}\n\n.sk-estimator-doc-link.fitted span {\n  /* fitted */\n  background: var(--sklearn-color-fitted-level-0);\n  border: var(--sklearn-color-fitted-level-3);\n}\n\n.sk-estimator-doc-link:hover span {\n  display: block;\n}\n\n/* \"?\"-specific style due to the `<a>` HTML tag */\n\n#sk-container-id-9 a.estimator_doc_link {\n  float: right;\n  font-size: 1rem;\n  line-height: 1em;\n  font-family: monospace;\n  background-color: var(--sklearn-color-background);\n  border-radius: 1rem;\n  height: 1rem;\n  width: 1rem;\n  text-decoration: none;\n  /* unfitted */\n  color: var(--sklearn-color-unfitted-level-1);\n  border: var(--sklearn-color-unfitted-level-1) 1pt solid;\n}\n\n#sk-container-id-9 a.estimator_doc_link.fitted {\n  /* fitted */\n  border: var(--sklearn-color-fitted-level-1) 1pt solid;\n  color: var(--sklearn-color-fitted-level-1);\n}\n\n/* On hover */\n#sk-container-id-9 a.estimator_doc_link:hover {\n  /* unfitted */\n  background-color: var(--sklearn-color-unfitted-level-3);\n  color: var(--sklearn-color-background);\n  text-decoration: none;\n}\n\n#sk-container-id-9 a.estimator_doc_link.fitted:hover {\n  /* fitted */\n  background-color: var(--sklearn-color-fitted-level-3);\n}\n</style><div id=\"sk-container-id-9\" class=\"sk-top-container\"><div class=\"sk-text-repr-fallback\"><pre>LinearRegression()</pre><b>In a Jupyter environment, please rerun this cell to show the HTML representation or trust the notebook. <br />On GitHub, the HTML representation is unable to render, please try loading this page with nbviewer.org.</b></div><div class=\"sk-container\" hidden><div class=\"sk-item\"><div class=\"sk-estimator fitted sk-toggleable\"><input class=\"sk-toggleable__control sk-hidden--visually\" id=\"sk-estimator-id-9\" type=\"checkbox\" checked><label for=\"sk-estimator-id-9\" class=\"sk-toggleable__label fitted sk-toggleable__label-arrow fitted\">&nbsp;&nbsp;LinearRegression<a class=\"sk-estimator-doc-link fitted\" rel=\"noreferrer\" target=\"_blank\" href=\"https://scikit-learn.org/1.4/modules/generated/sklearn.linear_model.LinearRegression.html\">?<span>Documentation for LinearRegression</span></a><span class=\"sk-estimator-doc-link fitted\">i<span>Fitted</span></span></label><div class=\"sk-toggleable__content fitted\"><pre>LinearRegression()</pre></div> </div></div></div></div>"
          },
          "metadata": {}
        }
      ],
      "execution_count": 176
    },
    {
      "cell_type": "code",
      "source": "X_test",
      "metadata": {
        "trusted": true
      },
      "outputs": [
        {
          "execution_count": 177,
          "output_type": "execute_result",
          "data": {
            "text/plain": "      MSSubClass   LotArea  OverallCond  YearBuilt  YearRemodAdd  BsmtFinSF2  \\\n2888   -0.647363 -0.208724    -1.423135  -1.533396     -1.645284   -0.289224   \n2364    1.462688 -1.492675    -0.517326   1.066270      0.935935   -0.289224   \n2075   -0.881813 -0.620948     1.294290  -0.677810     -1.597484   -0.289224   \n2564   -0.881813  1.204703    -0.517326  -0.677810     -1.597484   -0.289224   \n2216   -0.881813  1.660807    -0.517326  -0.644903     -1.549684   -0.289224   \n...          ...       ...          ...        ...           ...         ...   \n2631    0.055987  2.074267    -0.517326   1.099177      1.031535   -0.289224   \n162    -0.881813  0.918557    -0.517326   1.099177      0.983735   -0.289224   \n2680    0.055987  0.007276    -0.517326   0.934641      0.744733   -0.289224   \n2085   -0.881813  0.193611    -0.517326   1.197899      1.127136   -0.289224   \n246     3.103838 -0.020844     2.200098  -2.027003     -1.645284   -0.289224   \n\n      TotalBsmtSF  MSZoning_0  MSZoning_C (all)  MSZoning_FV  ...  \\\n2888    -1.462956   -0.018932         -0.093132    -0.228939  ...   \n2364     0.818504   -0.018932         -0.093132     4.367967  ...   \n2075    -0.392165   -0.018932         -0.093132    -0.228939  ...   \n2564    -2.504806   -0.018932         -0.093132    -0.228939  ...   \n2216    -2.504806   52.820451         -0.093132    -0.228939  ...   \n...           ...         ...               ...          ...  ...   \n2631     0.847445   -0.018932         -0.093132    -0.228939  ...   \n162      1.211610   -0.018932         -0.093132    -0.228939  ...   \n2680     1.209198   -0.018932         -0.093132    -0.228939  ...   \n2085    -2.041762   -0.018932         -0.093132    -0.228939  ...   \n246     -0.044881   -0.018932         -0.093132    -0.228939  ...   \n\n      Exterior1st_CemntBd  Exterior1st_HdBoard  Exterior1st_ImStucc  \\\n2888             -0.21196             -0.42206            -0.018932   \n2364             -0.21196             -0.42206            -0.018932   \n2075             -0.21196             -0.42206            -0.018932   \n2564             -0.21196             -0.42206            -0.018932   \n2216             -0.21196             -0.42206            -0.018932   \n...                   ...                  ...                  ...   \n2631             -0.21196             -0.42206            -0.018932   \n162              -0.21196             -0.42206            -0.018932   \n2680             -0.21196             -0.42206            -0.018932   \n2085             -0.21196             -0.42206            -0.018932   \n246              -0.21196             -0.42206            -0.018932   \n\n      Exterior1st_MetalSd  Exterior1st_Plywood  Exterior1st_Stone  \\\n2888            -0.430861            -0.274827          -0.026779   \n2364             2.320933            -0.274827          -0.026779   \n2075             2.320933            -0.274827          -0.026779   \n2564            -0.430861            -0.274827          -0.026779   \n2216            -0.430861            -0.274827          -0.026779   \n...                   ...                  ...                ...   \n2631            -0.430861            -0.274827          -0.026779   \n162             -0.430861            -0.274827          -0.026779   \n2680            -0.430861            -0.274827          -0.026779   \n2085            -0.430861            -0.274827          -0.026779   \n246             -0.430861            -0.274827          -0.026779   \n\n      Exterior1st_Stucco  Exterior1st_VinylSd  Exterior1st_Wd Sdng  \\\n2888           -0.122103            -0.753059             2.522720   \n2364           -0.122103            -0.753059            -0.396398   \n2075           -0.122103            -0.753059            -0.396398   \n2564           -0.122103            -0.753059             2.522720   \n2216           -0.122103            -0.753059            -0.396398   \n...                  ...                  ...                  ...   \n2631           -0.122103             1.327918            -0.396398   \n162            -0.122103             1.327918            -0.396398   \n2680           -0.122103             1.327918            -0.396398   \n2085           -0.122103             1.327918            -0.396398   \n246            -0.122103            -0.753059            -0.396398   \n\n      Exterior1st_WdShing  \n2888             -0.13913  \n2364             -0.13913  \n2075             -0.13913  \n2564             -0.13913  \n2216             -0.13913  \n...                   ...  \n2631             -0.13913  \n162              -0.13913  \n2680             -0.13913  \n2085             -0.13913  \n246              -0.13913  \n\n[559 rows x 38 columns]",
            "text/html": "<div>\n<style scoped>\n    .dataframe tbody tr th:only-of-type {\n        vertical-align: middle;\n    }\n\n    .dataframe tbody tr th {\n        vertical-align: top;\n    }\n\n    .dataframe thead th {\n        text-align: right;\n    }\n</style>\n<table border=\"1\" class=\"dataframe\">\n  <thead>\n    <tr style=\"text-align: right;\">\n      <th></th>\n      <th>MSSubClass</th>\n      <th>LotArea</th>\n      <th>OverallCond</th>\n      <th>YearBuilt</th>\n      <th>YearRemodAdd</th>\n      <th>BsmtFinSF2</th>\n      <th>TotalBsmtSF</th>\n      <th>MSZoning_0</th>\n      <th>MSZoning_C (all)</th>\n      <th>MSZoning_FV</th>\n      <th>...</th>\n      <th>Exterior1st_CemntBd</th>\n      <th>Exterior1st_HdBoard</th>\n      <th>Exterior1st_ImStucc</th>\n      <th>Exterior1st_MetalSd</th>\n      <th>Exterior1st_Plywood</th>\n      <th>Exterior1st_Stone</th>\n      <th>Exterior1st_Stucco</th>\n      <th>Exterior1st_VinylSd</th>\n      <th>Exterior1st_Wd Sdng</th>\n      <th>Exterior1st_WdShing</th>\n    </tr>\n  </thead>\n  <tbody>\n    <tr>\n      <th>2888</th>\n      <td>-0.647363</td>\n      <td>-0.208724</td>\n      <td>-1.423135</td>\n      <td>-1.533396</td>\n      <td>-1.645284</td>\n      <td>-0.289224</td>\n      <td>-1.462956</td>\n      <td>-0.018932</td>\n      <td>-0.093132</td>\n      <td>-0.228939</td>\n      <td>...</td>\n      <td>-0.21196</td>\n      <td>-0.42206</td>\n      <td>-0.018932</td>\n      <td>-0.430861</td>\n      <td>-0.274827</td>\n      <td>-0.026779</td>\n      <td>-0.122103</td>\n      <td>-0.753059</td>\n      <td>2.522720</td>\n      <td>-0.13913</td>\n    </tr>\n    <tr>\n      <th>2364</th>\n      <td>1.462688</td>\n      <td>-1.492675</td>\n      <td>-0.517326</td>\n      <td>1.066270</td>\n      <td>0.935935</td>\n      <td>-0.289224</td>\n      <td>0.818504</td>\n      <td>-0.018932</td>\n      <td>-0.093132</td>\n      <td>4.367967</td>\n      <td>...</td>\n      <td>-0.21196</td>\n      <td>-0.42206</td>\n      <td>-0.018932</td>\n      <td>2.320933</td>\n      <td>-0.274827</td>\n      <td>-0.026779</td>\n      <td>-0.122103</td>\n      <td>-0.753059</td>\n      <td>-0.396398</td>\n      <td>-0.13913</td>\n    </tr>\n    <tr>\n      <th>2075</th>\n      <td>-0.881813</td>\n      <td>-0.620948</td>\n      <td>1.294290</td>\n      <td>-0.677810</td>\n      <td>-1.597484</td>\n      <td>-0.289224</td>\n      <td>-0.392165</td>\n      <td>-0.018932</td>\n      <td>-0.093132</td>\n      <td>-0.228939</td>\n      <td>...</td>\n      <td>-0.21196</td>\n      <td>-0.42206</td>\n      <td>-0.018932</td>\n      <td>2.320933</td>\n      <td>-0.274827</td>\n      <td>-0.026779</td>\n      <td>-0.122103</td>\n      <td>-0.753059</td>\n      <td>-0.396398</td>\n      <td>-0.13913</td>\n    </tr>\n    <tr>\n      <th>2564</th>\n      <td>-0.881813</td>\n      <td>1.204703</td>\n      <td>-0.517326</td>\n      <td>-0.677810</td>\n      <td>-1.597484</td>\n      <td>-0.289224</td>\n      <td>-2.504806</td>\n      <td>-0.018932</td>\n      <td>-0.093132</td>\n      <td>-0.228939</td>\n      <td>...</td>\n      <td>-0.21196</td>\n      <td>-0.42206</td>\n      <td>-0.018932</td>\n      <td>-0.430861</td>\n      <td>-0.274827</td>\n      <td>-0.026779</td>\n      <td>-0.122103</td>\n      <td>-0.753059</td>\n      <td>2.522720</td>\n      <td>-0.13913</td>\n    </tr>\n    <tr>\n      <th>2216</th>\n      <td>-0.881813</td>\n      <td>1.660807</td>\n      <td>-0.517326</td>\n      <td>-0.644903</td>\n      <td>-1.549684</td>\n      <td>-0.289224</td>\n      <td>-2.504806</td>\n      <td>52.820451</td>\n      <td>-0.093132</td>\n      <td>-0.228939</td>\n      <td>...</td>\n      <td>-0.21196</td>\n      <td>-0.42206</td>\n      <td>-0.018932</td>\n      <td>-0.430861</td>\n      <td>-0.274827</td>\n      <td>-0.026779</td>\n      <td>-0.122103</td>\n      <td>-0.753059</td>\n      <td>-0.396398</td>\n      <td>-0.13913</td>\n    </tr>\n    <tr>\n      <th>...</th>\n      <td>...</td>\n      <td>...</td>\n      <td>...</td>\n      <td>...</td>\n      <td>...</td>\n      <td>...</td>\n      <td>...</td>\n      <td>...</td>\n      <td>...</td>\n      <td>...</td>\n      <td>...</td>\n      <td>...</td>\n      <td>...</td>\n      <td>...</td>\n      <td>...</td>\n      <td>...</td>\n      <td>...</td>\n      <td>...</td>\n      <td>...</td>\n      <td>...</td>\n      <td>...</td>\n    </tr>\n    <tr>\n      <th>2631</th>\n      <td>0.055987</td>\n      <td>2.074267</td>\n      <td>-0.517326</td>\n      <td>1.099177</td>\n      <td>1.031535</td>\n      <td>-0.289224</td>\n      <td>0.847445</td>\n      <td>-0.018932</td>\n      <td>-0.093132</td>\n      <td>-0.228939</td>\n      <td>...</td>\n      <td>-0.21196</td>\n      <td>-0.42206</td>\n      <td>-0.018932</td>\n      <td>-0.430861</td>\n      <td>-0.274827</td>\n      <td>-0.026779</td>\n      <td>-0.122103</td>\n      <td>1.327918</td>\n      <td>-0.396398</td>\n      <td>-0.13913</td>\n    </tr>\n    <tr>\n      <th>162</th>\n      <td>-0.881813</td>\n      <td>0.918557</td>\n      <td>-0.517326</td>\n      <td>1.099177</td>\n      <td>0.983735</td>\n      <td>-0.289224</td>\n      <td>1.211610</td>\n      <td>-0.018932</td>\n      <td>-0.093132</td>\n      <td>-0.228939</td>\n      <td>...</td>\n      <td>-0.21196</td>\n      <td>-0.42206</td>\n      <td>-0.018932</td>\n      <td>-0.430861</td>\n      <td>-0.274827</td>\n      <td>-0.026779</td>\n      <td>-0.122103</td>\n      <td>1.327918</td>\n      <td>-0.396398</td>\n      <td>-0.13913</td>\n    </tr>\n    <tr>\n      <th>2680</th>\n      <td>0.055987</td>\n      <td>0.007276</td>\n      <td>-0.517326</td>\n      <td>0.934641</td>\n      <td>0.744733</td>\n      <td>-0.289224</td>\n      <td>1.209198</td>\n      <td>-0.018932</td>\n      <td>-0.093132</td>\n      <td>-0.228939</td>\n      <td>...</td>\n      <td>-0.21196</td>\n      <td>-0.42206</td>\n      <td>-0.018932</td>\n      <td>-0.430861</td>\n      <td>-0.274827</td>\n      <td>-0.026779</td>\n      <td>-0.122103</td>\n      <td>1.327918</td>\n      <td>-0.396398</td>\n      <td>-0.13913</td>\n    </tr>\n    <tr>\n      <th>2085</th>\n      <td>-0.881813</td>\n      <td>0.193611</td>\n      <td>-0.517326</td>\n      <td>1.197899</td>\n      <td>1.127136</td>\n      <td>-0.289224</td>\n      <td>-2.041762</td>\n      <td>-0.018932</td>\n      <td>-0.093132</td>\n      <td>-0.228939</td>\n      <td>...</td>\n      <td>-0.21196</td>\n      <td>-0.42206</td>\n      <td>-0.018932</td>\n      <td>-0.430861</td>\n      <td>-0.274827</td>\n      <td>-0.026779</td>\n      <td>-0.122103</td>\n      <td>1.327918</td>\n      <td>-0.396398</td>\n      <td>-0.13913</td>\n    </tr>\n    <tr>\n      <th>246</th>\n      <td>3.103838</td>\n      <td>-0.020844</td>\n      <td>2.200098</td>\n      <td>-2.027003</td>\n      <td>-1.645284</td>\n      <td>-0.289224</td>\n      <td>-0.044881</td>\n      <td>-0.018932</td>\n      <td>-0.093132</td>\n      <td>-0.228939</td>\n      <td>...</td>\n      <td>-0.21196</td>\n      <td>-0.42206</td>\n      <td>-0.018932</td>\n      <td>-0.430861</td>\n      <td>-0.274827</td>\n      <td>-0.026779</td>\n      <td>-0.122103</td>\n      <td>-0.753059</td>\n      <td>-0.396398</td>\n      <td>-0.13913</td>\n    </tr>\n  </tbody>\n</table>\n<p>559 rows × 38 columns</p>\n</div>"
          },
          "metadata": {}
        }
      ],
      "execution_count": 177
    },
    {
      "cell_type": "code",
      "source": "y_pred = model.predict(X_test)",
      "metadata": {
        "trusted": true
      },
      "outputs": [],
      "execution_count": 178
    },
    {
      "cell_type": "code",
      "source": "y_test",
      "metadata": {
        "trusted": true
      },
      "outputs": [
        {
          "execution_count": 179,
          "output_type": "execute_result",
          "data": {
            "text/plain": "2888    180921.0\n2364    180921.0\n2075    180921.0\n2564    180921.0\n2216    180921.0\n          ...   \n2631    180921.0\n162     220000.0\n2680    180921.0\n2085    180921.0\n246     137000.0\nName: SalePrice, Length: 559, dtype: float64"
          },
          "metadata": {}
        }
      ],
      "execution_count": 179
    },
    {
      "cell_type": "code",
      "source": "y_pred",
      "metadata": {
        "trusted": true
      },
      "outputs": [
        {
          "execution_count": 180,
          "output_type": "execute_result",
          "data": {
            "text/plain": "array([ 1.19012000e+05,  1.86820000e+05,  1.45348000e+05,  1.18244000e+05,\n       -8.91248014e+18,  1.90020000e+05,  1.74276000e+05,  1.60452000e+05,\n        1.49188000e+05,  1.91204000e+05,  1.46916000e+05,  1.51988000e+05,\n        2.48132000e+05,  1.84132000e+05,  2.41092000e+05,  1.93092000e+05,\n        2.59140000e+05,  1.43812000e+05,  1.38084000e+05,  1.43076000e+05,\n        1.98340000e+05,  1.86948000e+05,  2.14852000e+05,  1.57380000e+05,\n        1.58020000e+05,  1.64420000e+05,  2.19076000e+05,  1.62756000e+05,\n        1.47396000e+05,  1.26404000e+05,  1.73636000e+05,  1.83364000e+05,\n        1.69028000e+05,  2.33284000e+05,  1.76324000e+05,  1.48292000e+05,\n        1.70948000e+05,  1.49316000e+05,  1.58276000e+05,  2.52868000e+05,\n        1.87076000e+05,  1.66596000e+05,  1.93732000e+05,  1.46532000e+05,\n        1.36900000e+05,  1.83748000e+05,  1.61124000e+05,  2.02948000e+05,\n        1.70692000e+05,  1.74436000e+05,  1.63012000e+05,  1.67620000e+05,\n        1.93988000e+05,  1.67524000e+05,  1.91556000e+05,  2.14468000e+05,\n        1.63012000e+05,  1.20644000e+05,  1.97060000e+05,  1.98980000e+05,\n        2.23300000e+05,  1.11332000e+05,  1.62276000e+05,  1.46372000e+05,\n        1.80164000e+05,  2.43780000e+05,  1.33188000e+05,  2.36228000e+05,\n        2.02820000e+05,  1.75076000e+05,  1.96164000e+05,  2.21364000e+05,\n        2.02052000e+05,  1.81828000e+05,  2.12164000e+05,  1.49700000e+05,\n        1.91428000e+05,  2.56196000e+05,  2.04228000e+05,  1.53412000e+05,\n        2.15108000e+05,  2.16516000e+05,  1.32196000e+05,  1.65828000e+05,\n        1.41892000e+05,  2.41220000e+05,  2.33924000e+05,  2.04996000e+05,\n        1.12580000e+05,  1.53412000e+05,  1.62884000e+05,  1.57508000e+05,\n        1.51140000e+05,  1.52900000e+05,  1.79140000e+05,  1.93604000e+05,\n        1.83780000e+05,  1.87076000e+05,  2.44676000e+05,  1.82852000e+05,\n        1.70052000e+05,  1.64292000e+05,  1.91556000e+05,  1.43044000e+05,\n        1.62372000e+05,  2.00900000e+05,  1.45860000e+05,  2.03332000e+05,\n        1.80420000e+05,  1.71076000e+05,  1.65060000e+05,  1.67620000e+05,\n        1.80932000e+05,  1.54692000e+05,  2.22532000e+05,  2.09860000e+05,\n        1.13348000e+05,  1.92196000e+05,  2.13572000e+05,  1.46244000e+05,\n        1.78244000e+05,  1.56868000e+05,  1.46628000e+05,  1.38564000e+05,\n        1.92580000e+05,  1.30020000e+05,  2.12676000e+05,  1.12964000e+05,\n        2.33668000e+05,  1.97444000e+05,  2.21764000e+05,  1.95524000e+05,\n        2.03076000e+05,  2.14724000e+05,  1.40868000e+05,  1.58276000e+05,\n        1.68516000e+05,  2.34180000e+05,  1.90148000e+05,  1.63396000e+05,\n        1.79908000e+05,  1.90404000e+05,  1.53668000e+05,  1.58404000e+05,\n        1.78020000e+05,  1.63684000e+05,  1.93732000e+05,  2.05252000e+05,\n        2.33028000e+05,  1.65572000e+05,  1.66596000e+05,  1.94116000e+05,\n        1.44836000e+05,  1.53700000e+05,  1.92452000e+05,  1.71076000e+05,\n        1.66596000e+05,  1.84516000e+05,  1.27940000e+05,  2.24068000e+05,\n        1.55076000e+05,  1.87332000e+05,  2.00644000e+05,  1.61092000e+05,\n        1.89252000e+05,  2.07300000e+05,  2.58244000e+05,  2.28164000e+05,\n        1.66468000e+05,  1.17060000e+05,  2.02692000e+05,  2.73220000e+05,\n        1.89380000e+05,  2.16900000e+05,  1.55460000e+05,  1.87204000e+05,\n        1.24996000e+05,  2.00900000e+05,  1.62372000e+05,  2.20484000e+05,\n        1.86820000e+05,  2.53508000e+05,  1.73892000e+05,  1.66596000e+05,\n        1.57380000e+05,  1.72388000e+05,  2.11012000e+05,  1.51012000e+05,\n        1.39716000e+05,  1.64804000e+05,  1.60196000e+05,  1.86564000e+05,\n        1.95524000e+05,  1.53284000e+05,  1.93860000e+05,  1.50852000e+05,\n        1.66468000e+05,  2.02180000e+05,  1.50468000e+05,  2.03332000e+05,\n        2.15748000e+05,  1.16164000e+05,  1.84260000e+05,  1.73764000e+05,\n        1.75044000e+05,  1.39748000e+05,  1.77860000e+05,  1.73380000e+05,\n        2.05252000e+05,  1.63780000e+05,  1.84516000e+05,  1.48916000e+05,\n        1.77220000e+05,  1.28196000e+05,  1.57252000e+05,  2.33540000e+05,\n        1.70308000e+05,  1.57124000e+05,  1.84900000e+05,  2.35460000e+05,\n        2.23556000e+05,  1.55236000e+05,  1.42148000e+05,  2.03588000e+05,\n        1.43812000e+05,  1.75044000e+05,  1.80292000e+05,  2.25604000e+05,\n        1.47012000e+05,  1.72356000e+05,  1.91428000e+05,  1.38420000e+05,\n        2.66180000e+05,  1.37284000e+05,  1.59076000e+05,  2.07044000e+05,\n        1.44452000e+05,  1.92580000e+05,  2.20996000e+05,  2.11652000e+05,\n        1.76708000e+05,  1.75300000e+05,  1.06852000e+05,  1.62244000e+05,\n        1.51604000e+05,  1.92068000e+05,  1.82212000e+05,  2.19460000e+05,\n        1.88996000e+05,  1.80420000e+05,  1.64804000e+05,  1.67108000e+05,\n        2.02692000e+05,  2.14724000e+05,  1.76068000e+05,  2.01540000e+05,\n        1.66980000e+05,  1.31012000e+05,  2.07172000e+05,  1.61604000e+05,\n        1.85412000e+05,  1.58020000e+05,  1.39844000e+05,  1.51012000e+05,\n        1.88228000e+05,  1.87076000e+05,  1.70852000e+05,  2.10628000e+05,\n        1.21156000e+05,  1.65988000e+05,  1.39716000e+05,  2.06660000e+05,\n        1.94500000e+05,  1.42660000e+05,  1.43716000e+05,  1.54692000e+05,\n        2.00516000e+05,  1.77732000e+05,  1.58532000e+05,  1.73892000e+05,\n        2.31780000e+05,  2.17284000e+05,  1.62500000e+05,  2.82564000e+05,\n        1.87204000e+05,  1.82340000e+05,  2.11268000e+05,  2.21636000e+05,\n        1.66324000e+05,  1.79396000e+05,  2.06404000e+05,  1.74916000e+05,\n        1.64420000e+05,  1.96420000e+05,  1.54724000e+05,  1.88612000e+05,\n        1.65092000e+05,  1.99492000e+05,  1.72996000e+05,  2.06660000e+05,\n        1.69924000e+05,  1.40772000e+05,  1.52900000e+05,  1.99108000e+05,\n        1.84260000e+05,  2.14212000e+05,  1.91428000e+05,  1.86180000e+05,\n        1.79268000e+05,  1.66468000e+05,  1.57252000e+05,  1.61252000e+05,\n        1.62372000e+05,  1.87460000e+05,  1.73252000e+05,  1.95012000e+05,\n        2.41092000e+05,  1.97060000e+05,  1.61220000e+05,  1.05572000e+05,\n        2.11524000e+05,  2.11908000e+05,  1.93348000e+05,  1.33188000e+05,\n        1.92452000e+05,  1.44484000e+05,  1.40228000e+05,  2.27140000e+05,\n        1.43812000e+05,  1.48420000e+05,  2.03716000e+05,  1.77252000e+05,\n        1.89636000e+05,  1.56868000e+05,  2.46596000e+05,  1.65316000e+05,\n        1.36932000e+05,  1.90148000e+05,  1.83748000e+05,  2.11908000e+05,\n        2.06020000e+05,  1.93092000e+05,  2.36356000e+05,  1.70468000e+05,\n        1.64036000e+05,  1.86052000e+05,  1.35108000e+05,  1.64420000e+05,\n        2.12292000e+05,  2.09988000e+05,  2.31108000e+05,  2.07428000e+05,\n        2.30980000e+05,  2.52356000e+05,  1.74404000e+05,  1.91812000e+05,\n        1.86180000e+05,  2.31876000e+05,  1.96548000e+05,  1.51268000e+05,\n       -3.18933250e+19,  1.37540000e+05,  1.92068000e+05,  1.89252000e+05,\n        1.03364000e+05,  1.87332000e+05,  2.01540000e+05,  1.45604000e+05,\n        1.51108000e+05,  1.70180000e+05,  2.24580000e+05,  1.68548000e+05,\n        1.88740000e+05,  1.83236000e+05,  1.69444000e+05,  1.36132000e+05,\n        1.87332000e+05,  1.81188000e+05,  2.04772000e+05,  1.50852000e+05,\n        2.47876000e+05,  1.59972000e+05,  2.17668000e+05,  2.08068000e+05,\n        1.93604000e+05,  1.40004000e+05,  1.62244000e+05,  1.68932000e+05,\n        1.89508000e+05,  1.52132000e+05,  2.19972000e+05,  1.97060000e+05,\n        1.44836000e+05,  1.91924000e+05,  2.13316000e+05,  1.93220000e+05,\n        1.52772000e+05,  1.55972000e+05,  1.60356000e+05,  1.60452000e+05,\n        1.99748000e+05,  1.64548000e+05,  1.56740000e+05,  1.46884000e+05,\n        1.54340000e+05,  2.12804000e+05,  2.06532000e+05,  2.00132000e+05,\n        1.90916000e+05,  1.31396000e+05,  1.75940000e+05,  2.02436000e+05,\n        1.72388000e+05,  1.67876000e+05,  1.70308000e+05,  1.66628000e+05,\n        2.02180000e+05,  1.55236000e+05,  1.91300000e+05,  1.44068000e+05,\n        1.62228000e+05,  2.24324000e+05,  1.87620000e+05,  1.48068000e+05,\n        1.81348000e+05, -3.18933250e+19,  1.44580000e+05,  2.12420000e+05,\n        1.84772000e+05,  1.50708000e+05,  1.83748000e+05,  1.68804000e+05,\n        2.25092000e+05,  1.67236000e+05,  1.53540000e+05,  1.83236000e+05,\n        2.28932000e+05,  1.66340000e+05,  1.91044000e+05,  1.90788000e+05,\n        1.73636000e+05,  1.64804000e+05,  2.07556000e+05,  2.22148000e+05,\n        2.02564000e+05,  1.53796000e+05,  1.90644000e+05,  1.53956000e+05,\n        1.83524000e+05,  1.67908000e+05,  1.73892000e+05,  2.13316000e+05,\n        2.08452000e+05,  1.54180000e+05,  2.36612000e+05,  2.08196000e+05,\n        2.51460000e+05,  1.31428000e+05,  1.89668000e+05,  2.30084000e+05,\n        1.50084000e+05,  1.63044000e+05,  1.90148000e+05,  1.46628000e+05,\n        1.95652000e+05,  1.62916000e+05,  1.38308000e+05,  1.46244000e+05,\n        1.95652000e+05,  1.67364000e+05,  1.63140000e+05,  1.79396000e+05,\n        1.54436000e+05,  2.29956000e+05,  2.44932000e+05,  2.04484000e+05,\n        1.54052000e+05,  1.74532000e+05,  1.87204000e+05,  1.41540000e+05,\n        2.22916000e+05,  1.24004000e+05,  1.68900000e+05,  1.98980000e+05,\n        1.78500000e+05,  1.69412000e+05,  1.93988000e+05,  1.65316000e+05,\n        1.23748000e+05,  2.32772000e+05,  2.01668000e+05,  1.88228000e+05,\n        2.07300000e+05,  1.79780000e+05,  1.83364000e+05,  2.06276000e+05,\n        1.45988000e+05,  1.60836000e+05,  1.92836000e+05,  1.49828000e+05,\n        1.44324000e+05,  1.55204000e+05,  1.34340000e+05,  1.70436000e+05,\n        1.76324000e+05,  1.47908000e+05,  1.89892000e+05,  1.50500000e+05,\n        1.83236000e+05,  1.97060000e+05,  2.13444000e+05,  1.92836000e+05,\n        2.11396000e+05,  1.46116000e+05,  1.68388000e+05,  1.57380000e+05,\n        1.59428000e+05,  1.42052000e+05,  1.94500000e+05,  1.90532000e+05,\n        1.46884000e+05,  1.59172000e+05,  1.44580000e+05,  1.98084000e+05,\n        2.30852000e+05,  1.94244000e+05,  2.55428000e+05,  2.04996000e+05,\n        1.66852000e+05,  1.53540000e+05,  1.74276000e+05,  1.53796000e+05,\n        1.66340000e+05,  1.59684000e+05,  2.20260000e+05,  1.93348000e+05,\n        1.77220000e+05,  1.96932000e+05,  1.92836000e+05,  1.64548000e+05,\n        1.71076000e+05,  1.56740000e+05,  1.55828000e+05,  1.98468000e+05,\n        1.58020000e+05,  1.64036000e+05,  1.77476000e+05,  1.53156000e+05,\n        2.26532000e+05,  1.67620000e+05,  1.83876000e+05,  1.91684000e+05,\n        1.91044000e+05,  1.58532000e+05,  2.40580000e+05,  2.17924000e+05,\n        2.25092000e+05,  1.53796000e+05,  1.62756000e+05])"
          },
          "metadata": {}
        }
      ],
      "execution_count": 180
    },
    {
      "cell_type": "code",
      "source": "from sklearn.pipeline import Pipeline\nfrom sklearn.linear_model import Lasso\nfrom sklearn.model_selection import train_test_split\nfrom sklearn.metrics import mean_squared_error, r2_score\nlasso= Lasso()\n#make_pipeine = Pipeline()",
      "metadata": {
        "trusted": true
      },
      "outputs": [],
      "execution_count": 188
    },
    {
      "cell_type": "markdown",
      "source": "pipe= make_pipeine(Cloumntrans, scalar, lasso)",
      "metadata": {}
    },
    {
      "cell_type": "markdown",
      "source": "mse = mean_squared_error(y_test, y_pred)\nr2 = r2_score(y_test, y_pred)\n\nprint(f\"Mean Squared Error: {mse}\")\nprint(f\"R² Score: {r2}\")\n",
      "metadata": {}
    },
    {
      "cell_type": "code",
      "source": "",
      "metadata": {
        "trusted": true
      },
      "outputs": [],
      "execution_count": null
    }
  ]
}